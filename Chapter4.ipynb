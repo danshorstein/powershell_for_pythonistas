{
 "cells": [
  {
   "cell_type": "markdown",
   "metadata": {},
   "source": [
    "# Chapter 4 - Lists"
   ]
  },
  {
   "cell_type": "markdown",
   "metadata": {},
   "source": [
    "## Indexing"
   ]
  },
  {
   "cell_type": "code",
   "execution_count": 27,
   "metadata": {},
   "outputs": [
    {
     "name": "stdout",
     "output_type": "stream",
     "text": [
      "dog\n",
      "['mouse', 'bird']\n",
      "bird\n"
     ]
    }
   ],
   "source": [
    "pets = ['dog', 'cat', 'mouse', 'bird']\n",
    "print(pets[0])\n",
    "print(pets[2:])\n",
    "print(pets[-1])"
   ]
  },
  {
   "cell_type": "code",
   "execution_count": 28,
   "metadata": {},
   "outputs": [
    {
     "ename": "IndexError",
     "evalue": "list index out of range",
     "output_type": "error",
     "traceback": [
      "\u001b[1;31m---------------------------------------------------------------------------\u001b[0m",
      "\u001b[1;31mIndexError\u001b[0m                                Traceback (most recent call last)",
      "\u001b[1;32m<ipython-input-28-12b770beb770>\u001b[0m in \u001b[0;36m<module>\u001b[1;34m\u001b[0m\n\u001b[0;32m      1\u001b[0m \u001b[1;31m# error when index out of range\u001b[0m\u001b[1;33m\u001b[0m\u001b[1;33m\u001b[0m\u001b[1;33m\u001b[0m\u001b[0m\n\u001b[1;32m----> 2\u001b[1;33m \u001b[0mpets\u001b[0m\u001b[1;33m[\u001b[0m\u001b[1;36m4\u001b[0m\u001b[1;33m]\u001b[0m\u001b[1;33m\u001b[0m\u001b[1;33m\u001b[0m\u001b[0m\n\u001b[0m",
      "\u001b[1;31mIndexError\u001b[0m: list index out of range"
     ]
    }
   ],
   "source": [
    "# error when index out of range\n",
    "pets[4]"
   ]
  },
  {
   "cell_type": "code",
   "execution_count": 50,
   "metadata": {},
   "outputs": [
    {
     "name": "stdout",
     "output_type": "stream",
     "text": [
      "dog\n",
      "mouse bird\n",
      "bird\n"
     ]
    }
   ],
   "source": [
    "!powershell \\\n",
    "$Pets = 'dog', 'cat', 'mouse', 'bird' ;\\\n",
    "$Pets[0]; \\\n",
    "[string]$Pets[2..($Pets.Length)] ;\\\n",
    "$Pets[-1] ;\\\n",
    "# no error when index out of range in PS \\\n",
    "$Pets[4]"
   ]
  },
  {
   "cell_type": "code",
   "execution_count": 51,
   "metadata": {},
   "outputs": [
    {
     "name": "stdout",
     "output_type": "stream",
     "text": [
      "The dog ate the mouse!\n"
     ]
    }
   ],
   "source": [
    "pets = ['dog', 'cat', 'mouse', 'bird']\n",
    "print(f'The {pets[0]} ate the {pets[2]}!')"
   ]
  },
  {
   "cell_type": "code",
   "execution_count": 54,
   "metadata": {},
   "outputs": [
    {
     "name": "stdout",
     "output_type": "stream",
     "text": [
      "The dog ate the mouse !\n"
     ]
    }
   ],
   "source": [
    "!powershell \\\n",
    "$Pets = 'dog', 'cat', 'mouse', 'bird';\\\n",
    "Write-Host \"The $Pets[0] ate the $Pets[2]!\""
   ]
  },
  {
   "cell_type": "markdown",
   "metadata": {},
   "source": [
    "### Nested list itens"
   ]
  },
  {
   "cell_type": "code",
   "execution_count": 57,
   "metadata": {},
   "outputs": [
    {
     "name": "stdout",
     "output_type": "stream",
     "text": [
      "['cat', 'dog']\n",
      "horse\n",
      "1\n"
     ]
    }
   ],
   "source": [
    "spam = [['cat', 'dog'], 'horse', [1, 3,5]]\n",
    "print(spam[0])\n",
    "print(spam[1])\n",
    "print(spam[2][0])"
   ]
  },
  {
   "cell_type": "code",
   "execution_count": 63,
   "metadata": {},
   "outputs": [
    {
     "name": "stdout",
     "output_type": "stream",
     "text": [
      "cat dog\n",
      "horse\n",
      "1\n"
     ]
    }
   ],
   "source": [
    "!powershell ;\\\n",
    "$Spam = ('cat', 'dog'), 'horse', (1, 3, 5) ;\\\n",
    "Write-Host $Spam[0] ;\\\n",
    "Write-Host $Spam[1] ;\\\n",
    "Write-Host $Spam[2][0]"
   ]
  },
  {
   "cell_type": "markdown",
   "metadata": {},
   "source": [
    "### Sublists or slices"
   ]
  },
  {
   "cell_type": "code",
   "execution_count": 65,
   "metadata": {},
   "outputs": [
    {
     "name": "stdout",
     "output_type": "stream",
     "text": [
      "['cat', 'mouse']\n",
      "['mouse', 'bird']\n",
      "['cat', 'mouse', 'bird']\n"
     ]
    }
   ],
   "source": [
    "pets = ['dog', 'cat', 'mouse', 'bird']\n",
    "print(pets[1:3])\n",
    "print(pets[2:])\n",
    "print(pets[-3:])"
   ]
  },
  {
   "cell_type": "code",
   "execution_count": 66,
   "metadata": {},
   "outputs": [
    {
     "name": "stdout",
     "output_type": "stream",
     "text": [
      "cat mouse\n",
      "mouse bird\n",
      "cat mouse bird\n"
     ]
    }
   ],
   "source": [
    "!powershell ;\\\n",
    "$Pets = 'dog', 'cat', 'mouse', 'bird' ;\\\n",
    "Write-Host $Pets[1..2] ;\\\n",
    "Write-Host $Pets[2..($Pets.Length)] ;\\\n",
    "Write-Host $Pets[-3..-1]"
   ]
  },
  {
   "cell_type": "markdown",
   "metadata": {},
   "source": [
    "### Changing values in a list"
   ]
  },
  {
   "cell_type": "code",
   "execution_count": 67,
   "metadata": {},
   "outputs": [
    {
     "name": "stdout",
     "output_type": "stream",
     "text": [
      "['cat', 'bat', 'rat', 'elephant']\n",
      "['cat', 'turtle', 'rat', 'elephant']\n"
     ]
    }
   ],
   "source": [
    "spam = ['cat', 'bat', 'rat', 'elephant']\n",
    "print(spam)\n",
    "spam[1] = 'turtle'\n",
    "print(spam)"
   ]
  },
  {
   "cell_type": "code",
   "execution_count": 71,
   "metadata": {},
   "outputs": [
    {
     "name": "stdout",
     "output_type": "stream",
     "text": [
      "cat bat rat elephant\n",
      "cat turtle rat elephant\n"
     ]
    }
   ],
   "source": [
    "!powershell \\\n",
    "$Spam = 'cat', 'bat', 'rat', 'elephant' ;\\\n",
    "Write-Host $Spam ;\\\n",
    "$Spam[1] = 'turtle' ;\\\n",
    "Write-Host $Spam "
   ]
  },
  {
   "cell_type": "markdown",
   "metadata": {},
   "source": [
    "### List Concatenation and List Replication"
   ]
  },
  {
   "cell_type": "code",
   "execution_count": 72,
   "metadata": {},
   "outputs": [
    {
     "data": {
      "text/plain": [
       "[1, 2, 3, 'A', 'B', 'C']"
      ]
     },
     "execution_count": 72,
     "metadata": {},
     "output_type": "execute_result"
    }
   ],
   "source": [
    "[1, 2, 3] + ['A', 'B', 'C']"
   ]
  },
  {
   "cell_type": "code",
   "execution_count": 75,
   "metadata": {},
   "outputs": [
    {
     "name": "stdout",
     "output_type": "stream",
     "text": [
      "1 2 3 A B C\n"
     ]
    }
   ],
   "source": [
    "!powershell Write-Host ((1, 2, 3) + ('A', 'B', 'C'))"
   ]
  },
  {
   "cell_type": "code",
   "execution_count": 76,
   "metadata": {},
   "outputs": [
    {
     "data": {
      "text/plain": [
       "[1, 2, 3, 1, 2, 3, 1, 2, 3]"
      ]
     },
     "execution_count": 76,
     "metadata": {},
     "output_type": "execute_result"
    }
   ],
   "source": [
    "[1, 2, 3] * 3"
   ]
  },
  {
   "cell_type": "code",
   "execution_count": 77,
   "metadata": {},
   "outputs": [
    {
     "name": "stdout",
     "output_type": "stream",
     "text": [
      "1 2 3 1 2 3 1 2 3\n"
     ]
    }
   ],
   "source": [
    "!powershell Write-Host ((1, 2, 3) * 3)"
   ]
  },
  {
   "cell_type": "markdown",
   "metadata": {},
   "source": [
    "### Remove an item from a list\n",
    "note - powershell's array object doesnt allow for item removal. instead we must use a special list array type that allows for item removal."
   ]
  },
  {
   "cell_type": "code",
   "execution_count": 78,
   "metadata": {},
   "outputs": [
    {
     "name": "stdout",
     "output_type": "stream",
     "text": [
      "['cat', 'bat', 'rat', 'elephant']\n",
      "['cat', 'bat', 'elephant']\n"
     ]
    }
   ],
   "source": [
    "spam = ['cat', 'bat', 'rat', 'elephant']\n",
    "print(spam)\n",
    "del spam[2]\n",
    "print(spam)"
   ]
  },
  {
   "cell_type": "code",
   "execution_count": 80,
   "metadata": {},
   "outputs": [
    {
     "name": "stdout",
     "output_type": "stream",
     "text": [
      "cat bat rat elephant\n",
      "cat bat elephant\n"
     ]
    }
   ],
   "source": [
    "!powershell \\\n",
    "[System.Collections.ArrayList]$Spam = 'cat', 'bat', 'rat', 'elephant' ;\\\n",
    "Write-Host $Spam ;\\\n",
    "$Spam.RemoveAt(2) ;\\\n",
    "Write-Host $Spam"
   ]
  },
  {
   "cell_type": "markdown",
   "metadata": {},
   "source": [
    "### Creating and working with lists"
   ]
  },
  {
   "cell_type": "code",
   "execution_count": 83,
   "metadata": {},
   "outputs": [
    {
     "name": "stdin",
     "output_type": "stream",
     "text": [
      "Give me a cat name for cat 1 or hit enter to end:  bob\n",
      "Give me a cat name for cat 2 or hit enter to end:  sam\n",
      "Give me a cat name for cat 3 or hit enter to end:  billy\n",
      "Give me a cat name for cat 4 or hit enter to end:  \n"
     ]
    },
    {
     "name": "stdout",
     "output_type": "stream",
     "text": [
      "Your 3 cats are:\n",
      "  bob\n",
      "  sam\n",
      "  billy\n"
     ]
    }
   ],
   "source": [
    "cat_names = []\n",
    "while True:\n",
    "    name = input(f'Give me a cat name for cat {len(cat_names) + 1} or hit enter to end: ')\n",
    "    if name == '':\n",
    "        break\n",
    "    cat_names.append(name)\n",
    "print(f'Your {len(cat_names)} cats are:')\n",
    "for name in cat_names:\n",
    "    print(f'  {name}')"
   ]
  },
  {
   "cell_type": "markdown",
   "metadata": {},
   "source": [
    "## In PowerShell\n",
    "<pre>\n",
    "$CatNames = New-Object System.Collections.ArrayList\n",
    "\n",
    "While ($True)\n",
    "{\n",
    "    $CatLen = ($CatNames.Count + 1)\n",
    "    $Name = Read-Host -Prompt \"Give me a cat name for cat $CatLen or hit enter to end\"\n",
    "    \n",
    "    If ($Name -eq '') {Break}\n",
    "    \n",
    "    $CatNames.Add($Name)\n",
    "}\n",
    "$CatLen = ($CatNames.Count)\n",
    "Write-Host \"Your $CatLen cats are:\"\n",
    "\n",
    "ForEach ($Name in $CatNames)\n",
    "{\n",
    "    Write-Host $Name\n",
    "}</pre>"
   ]
  },
  {
   "cell_type": "markdown",
   "metadata": {},
   "source": [
    "#### Output:\n",
    "<pre>\n",
    "PS C:\\Users\\daniel\\Documents\\powershell_for_pythonistas> C:\\Users\\daniel\\Documents\\powershell_for_pythonistas\\Scripts\\funsies.ps1\n",
    "Give me a cat name for cat 1 or hit enter to end: bob\n",
    "0\n",
    "Give me a cat name for cat 2 or hit enter to end: sam\n",
    "1\n",
    "Give me a cat name for cat 3 or hit enter to end: billy\n",
    "2\n",
    "Give me a cat name for cat 4 or hit enter to end: \n",
    "Your 3 cats are:\n",
    "bob\n",
    "sam\n",
    "billy</pre>"
   ]
  },
  {
   "cell_type": "markdown",
   "metadata": {},
   "source": [
    "### Iterating through list items"
   ]
  },
  {
   "cell_type": "code",
   "execution_count": 85,
   "metadata": {},
   "outputs": [
    {
     "name": "stdout",
     "output_type": "stream",
     "text": [
      "Index 0 contains pens\n",
      "Index 1 contains staplers\n",
      "Index 2 contains flame-throwers\n",
      "Index 3 contains binders\n"
     ]
    }
   ],
   "source": [
    "supplies = ['pens', 'staplers', 'flame-throwers', 'binders']\n",
    "for i in range(len(supplies)):\n",
    "    print(f'Index {i} contains {supplies[i]}')"
   ]
  },
  {
   "cell_type": "code",
   "execution_count": 89,
   "metadata": {},
   "outputs": [
    {
     "name": "stdout",
     "output_type": "stream",
     "text": [
      "Index 0 contains pens\n",
      "Index 1 contains staplers\n",
      "Index 2 contains flame-throwers\n",
      "Index 3 contains binders\n"
     ]
    }
   ],
   "source": [
    "!powershell \\\n",
    "$Supplies = 'pens', 'staplers', 'flame-throwers', 'binders' ;\\\n",
    "ForEach ($i in (0..($Supplies.Length - 1))) \\\n",
    "{ \\\n",
    "    Write-Host \"Index $i contains $Supplies[$i]\" \\\n",
    "}"
   ]
  },
  {
   "cell_type": "markdown",
   "metadata": {},
   "source": [
    "### in and not in Operators"
   ]
  },
  {
   "cell_type": "code",
   "execution_count": 92,
   "metadata": {},
   "outputs": [
    {
     "name": "stdout",
     "output_type": "stream",
     "text": [
      "True\n",
      "False\n",
      "True\n"
     ]
    }
   ],
   "source": [
    "spam = ['hi', 'hello', 'howdy']\n",
    "print('howdy' in spam)\n",
    "print('cat' in spam)\n",
    "print('cat' not in spam)"
   ]
  },
  {
   "cell_type": "code",
   "execution_count": 100,
   "metadata": {},
   "outputs": [
    {
     "name": "stdout",
     "output_type": "stream",
     "text": [
      "True\n",
      "False\n",
      "True\n"
     ]
    }
   ],
   "source": [
    "!powershell ;\\\n",
    "$Spam = 'hi', 'hello', 'howdy'  ;\\\n",
    "$Spam.Contains('howdy') ;\\\n",
    "$Spam.Contains('cat')  ;\\\n",
    "!$Spam.Contains('cat')"
   ]
  },
  {
   "cell_type": "markdown",
   "metadata": {},
   "source": [
    "## Multiple Assignments"
   ]
  },
  {
   "cell_type": "code",
   "execution_count": 102,
   "metadata": {},
   "outputs": [
    {
     "name": "stdout",
     "output_type": "stream",
     "text": [
      "3\n"
     ]
    }
   ],
   "source": [
    "nums = [1, 3, 5]\n",
    "a, b, c = nums\n",
    "print(b)"
   ]
  },
  {
   "cell_type": "code",
   "execution_count": 103,
   "metadata": {},
   "outputs": [
    {
     "name": "stdout",
     "output_type": "stream",
     "text": [
      "3\n"
     ]
    }
   ],
   "source": [
    "!powershell \\\n",
    "$Nums = 1, 3, 5 ;\\\n",
    "$a, $b, $c = $Nums ;\\\n",
    "$b"
   ]
  },
  {
   "cell_type": "markdown",
   "metadata": {},
   "source": [
    "### Augmented Assignment"
   ]
  },
  {
   "cell_type": "code",
   "execution_count": 104,
   "metadata": {},
   "outputs": [
    {
     "data": {
      "text/plain": [
       "11"
      ]
     },
     "execution_count": 104,
     "metadata": {},
     "output_type": "execute_result"
    }
   ],
   "source": [
    "stuff = 10\n",
    "stuff += 1\n",
    "stuff"
   ]
  },
  {
   "cell_type": "code",
   "execution_count": 105,
   "metadata": {},
   "outputs": [
    {
     "name": "stdout",
     "output_type": "stream",
     "text": [
      "11\n"
     ]
    }
   ],
   "source": [
    "!powershell \\\n",
    "$Stuff = 10 ;\\\n",
    "$Stuff += 1 ;\\\n",
    "$Stuff"
   ]
  },
  {
   "cell_type": "markdown",
   "metadata": {},
   "source": [
    "### Finding a Value in a List with the index() Method"
   ]
  },
  {
   "cell_type": "code",
   "execution_count": 106,
   "metadata": {},
   "outputs": [
    {
     "data": {
      "text/plain": [
       "1"
      ]
     },
     "execution_count": 106,
     "metadata": {},
     "output_type": "execute_result"
    }
   ],
   "source": [
    "spam = ['hello', 'hi', 'howdy', 'heyas']\n",
    "spam.index('hi')"
   ]
  },
  {
   "cell_type": "code",
   "execution_count": 107,
   "metadata": {},
   "outputs": [
    {
     "name": "stdout",
     "output_type": "stream",
     "text": [
      "1\n"
     ]
    }
   ],
   "source": [
    "!powershell \\\n",
    "$Spam = 'hello', 'hi', 'howdy', 'heyas' ;\\\n",
    "$Spam.IndexOf('hi')"
   ]
  },
  {
   "cell_type": "code",
   "execution_count": null,
   "metadata": {},
   "outputs": [],
   "source": []
  }
 ],
 "metadata": {
  "kernelspec": {
   "display_name": "Python [default]",
   "language": "python",
   "name": "python3"
  },
  "language_info": {
   "codemirror_mode": {
    "name": "ipython",
    "version": 3
   },
   "file_extension": ".py",
   "mimetype": "text/x-python",
   "name": "python",
   "nbconvert_exporter": "python",
   "pygments_lexer": "ipython3",
   "version": "3.7.1"
  }
 },
 "nbformat": 4,
 "nbformat_minor": 2
}
