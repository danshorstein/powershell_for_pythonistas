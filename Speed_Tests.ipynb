{
 "cells": [
  {
   "cell_type": "markdown",
   "metadata": {},
   "source": [
    "I thought it would be interesting to compare the speed of certain code blocks in Python vs Powershell, so here you go"
   ]
  },
  {
   "cell_type": "code",
   "execution_count": 1,
   "metadata": {},
   "outputs": [
    {
     "name": "stdout",
     "output_type": "stream",
     "text": [
      "84.9 ms per loop\n"
     ]
    }
   ],
   "source": [
    "!powershell \\\n",
    "$Results = [System.Collections.ArrayList]::new() ;\\\n",
    "$RunForEach =  { \\\n",
    "    $Count = 0 ;\\\n",
    "    ForEach ($X in 1..1000000) {$Count += $X} ;\\\n",
    "} ;\\\n",
    "Function TimeScript ([scriptblock]$Script, $TimesToRun) { \\\n",
    "    ForEach ($xx in 1..$TimesToRun) { \\\n",
    "        $Timeit = [system.diagnostics.stopwatch]::startnew() ;\\\n",
    "        $Script.Invoke() ;\\\n",
    "        $Timeit.stop() ;\\\n",
    "        $A = $Results.add($Timeit.ElapsedMilliseconds) \\\n",
    "    } ;\\\n",
    "} ;\\\n",
    "TimeScript $RunForEach 10 ;\\\n",
    "Write-Host $($Results ^| Measure-Object -average).Average \"ms per loop\""
   ]
  },
  {
   "cell_type": "code",
   "execution_count": 2,
   "metadata": {},
   "outputs": [
    {
     "name": "stdout",
     "output_type": "stream",
     "text": [
      "43.9 ms ± 1.28 ms per loop (mean ± std. dev. of 7 runs, 10 loops each)\n"
     ]
    }
   ],
   "source": [
    "%%timeit\n",
    "x = 0\n",
    "for i in range(1000000):\n",
    "    x += i"
   ]
  },
  {
   "cell_type": "code",
   "execution_count": 10,
   "metadata": {},
   "outputs": [
    {
     "name": "stdout",
     "output_type": "stream",
     "text": [
      "411.9 ms on average\n"
     ]
    }
   ],
   "source": [
    "# Try hitting web request 10 times\n",
    "!powershell \\\n",
    "$R = {$Results = Invoke-WebRequest 'https://www.deloitte.com'} ;\\\n",
    "$TimeIt = [system.diagnostics.stopwatch]::startnew() ;\\\n",
    "ForEach ($xx in 1..10) {$R.Invoke()} ;\\\n",
    "$TimeIt.stop() ;\\\n",
    "Write-Host ($TimeIt.ElapsedMilliseconds / 10) \"ms on average\""
   ]
  },
  {
   "cell_type": "code",
   "execution_count": 5,
   "metadata": {},
   "outputs": [],
   "source": [
    "try:\n",
    "    import requests\n",
    "except:\n",
    "    !pip install requests -q\n",
    "    import requests"
   ]
  },
  {
   "cell_type": "code",
   "execution_count": 6,
   "metadata": {},
   "outputs": [
    {
     "name": "stdout",
     "output_type": "stream",
     "text": [
      "373 ms ± 23.3 ms per loop (mean ± std. dev. of 7 runs, 1 loop each)\n"
     ]
    }
   ],
   "source": [
    "%%timeit\n",
    "r = requests.get('https://www.deloitte.com')"
   ]
  },
  {
   "cell_type": "code",
   "execution_count": null,
   "metadata": {},
   "outputs": [],
   "source": []
  }
 ],
 "metadata": {
  "kernelspec": {
   "display_name": "Python 3",
   "language": "python",
   "name": "python3"
  },
  "language_info": {
   "codemirror_mode": {
    "name": "ipython",
    "version": 3
   },
   "file_extension": ".py",
   "mimetype": "text/x-python",
   "name": "python",
   "nbconvert_exporter": "python",
   "pygments_lexer": "ipython3",
   "version": "3.7.1"
  }
 },
 "nbformat": 4,
 "nbformat_minor": 2
}
