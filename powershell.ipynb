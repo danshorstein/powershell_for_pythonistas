{
 "cells": [
  {
   "cell_type": "markdown",
   "metadata": {},
   "source": [
    "# PowerShell exploration and comparison to Python"
   ]
  },
  {
   "cell_type": "markdown",
   "metadata": {},
   "source": [
    "## Following along with Automate the Boring Stuff with Python"
   ]
  },
  {
   "cell_type": "markdown",
   "metadata": {},
   "source": [
    "This notebook shows the capabilities of Powershell's basics and compares to Python. To show powershell within the notebook, we are going to create functions and call them within the same block of code, since they do not keep after each block."
   ]
  },
  {
   "cell_type": "code",
   "execution_count": 1,
   "metadata": {},
   "outputs": [
    {
     "name": "stdout",
     "output_type": "stream",
     "text": [
      "\n",
      "Name                           Value                                                                                   \n",
      "----                           -----                                                                                   \n",
      "PSVersion                      5.1.17134.228                                                                           \n",
      "PSEdition                      Desktop                                                                                 \n",
      "PSCompatibleVersions           {1.0, 2.0, 3.0, 4.0...}                                                                 \n",
      "BuildVersion                   10.0.17134.228                                                                          \n",
      "CLRVersion                     4.0.30319.42000                                                                         \n",
      "WSManStackVersion              3.0                                                                                     \n",
      "PSRemotingProtocolVersion      2.3                                                                                     \n",
      "SerializationVersion           1.1.0.1                                                                                 \n",
      "\n",
      "\n"
     ]
    }
   ],
   "source": [
    "!powershell.exe $psversiontable"
   ]
  },
  {
   "cell_type": "markdown",
   "metadata": {},
   "source": [
    "## Basic Math"
   ]
  },
  {
   "cell_type": "code",
   "execution_count": 2,
   "metadata": {},
   "outputs": [
    {
     "name": "stdout",
     "output_type": "stream",
     "text": [
      "8\n",
      "6\n",
      "2\n",
      "2.75\n",
      "15\n",
      "3\n",
      "4\n"
     ]
    }
   ],
   "source": [
    "# Basic math with Python\n",
    "print(2 ** 3) # exponent\n",
    "print(22 % 8) # remainder\n",
    "print(22 // 8) # floored quotient\n",
    "print(22 / 8) # division\n",
    "print(3 * 5) # multiplication\n",
    "print(5 - 2) # subtraction\n",
    "print(2 + 2) #addition"
   ]
  },
  {
   "cell_type": "code",
   "execution_count": 3,
   "metadata": {},
   "outputs": [
    {
     "name": "stdout",
     "output_type": "stream",
     "text": [
      "8\n",
      "6\n",
      "2\n",
      "2.75\n",
      "15\n",
      "3\n",
      "4\n"
     ]
    }
   ],
   "source": [
    "# Basic math with PowerShell (see https://blogs.technet.microsoft.com/heyscriptingguy/2010/08/01/using-windows-powershell-to-work-with-numbers/)\n",
    "!powershell.exe \\\n",
    "[math]::Pow(2,3); \\\n",
    "22 % 8; \\\n",
    "[math]::Floor(22 / 8); \\\n",
    "22 / 8; \\\n",
    "3 * 5; \\\n",
    "5 - 2; \\\n",
    "2 + 2"
   ]
  },
  {
   "cell_type": "markdown",
   "metadata": {},
   "source": [
    "## String Concatenation and Replication"
   ]
  },
  {
   "cell_type": "markdown",
   "metadata": {},
   "source": [
    "concatenate strings, multiply strings"
   ]
  },
  {
   "cell_type": "code",
   "execution_count": 4,
   "metadata": {},
   "outputs": [
    {
     "name": "stdout",
     "output_type": "stream",
     "text": [
      "AliceBob\n",
      "AliceAliceAliceAliceAlice\n"
     ]
    }
   ],
   "source": [
    "print('Alice' + 'Bob')\n",
    "print('Alice' * 5)"
   ]
  },
  {
   "cell_type": "markdown",
   "metadata": {},
   "source": [
    "try to add a string and an int"
   ]
  },
  {
   "cell_type": "code",
   "execution_count": 5,
   "metadata": {},
   "outputs": [
    {
     "name": "stdout",
     "output_type": "stream",
     "text": [
      "AliceBob\n"
     ]
    },
    {
     "data": {
      "text/plain": [
       "'AliceAliceAliceAliceAlice'"
      ]
     },
     "execution_count": 5,
     "metadata": {},
     "output_type": "execute_result"
    }
   ],
   "source": [
    "!powershell.exe \\\n",
    "'Alice' + 'Bob'\n",
    "'Alice' * 5"
   ]
  },
  {
   "cell_type": "markdown",
   "metadata": {},
   "source": [
    "## Storing values to variables"
   ]
  },
  {
   "cell_type": "code",
   "execution_count": 6,
   "metadata": {},
   "outputs": [],
   "source": [
    "spam, eggs = 40, 2"
   ]
  },
  {
   "cell_type": "code",
   "execution_count": 7,
   "metadata": {},
   "outputs": [
    {
     "name": "stdout",
     "output_type": "stream",
     "text": [
      "40\n",
      "2\n",
      "42\n"
     ]
    }
   ],
   "source": [
    "print(spam)\n",
    "print(eggs)\n",
    "print(spam + eggs)"
   ]
  },
  {
   "cell_type": "code",
   "execution_count": 8,
   "metadata": {},
   "outputs": [
    {
     "name": "stdout",
     "output_type": "stream",
     "text": [
      "40\n",
      "2\n",
      "42\n"
     ]
    }
   ],
   "source": [
    "!powershell.exe $Spam, $Eggs = 40, 2; \\\n",
    "$Spam; \\\n",
    "$Eggs; \\\n",
    "$Spam + $Eggs"
   ]
  },
  {
   "cell_type": "code",
   "execution_count": 9,
   "metadata": {},
   "outputs": [
    {
     "name": "stdout",
     "output_type": "stream",
     "text": [
      "Hello\n",
      "Goodbye\n"
     ]
    }
   ],
   "source": [
    "spam = 'Hello'\n",
    "print(spam)\n",
    "spam = 'Goodbye'\n",
    "print(spam)"
   ]
  },
  {
   "cell_type": "code",
   "execution_count": 10,
   "metadata": {},
   "outputs": [
    {
     "name": "stdout",
     "output_type": "stream",
     "text": [
      "Hello\n",
      "Goodbye\n"
     ]
    }
   ],
   "source": [
    "!powershell.exe $Spam = 'Hello'; \\\n",
    "$Spam; \\\n",
    "$Spam = 'Goodbye'; \\\n",
    "$Spam"
   ]
  },
  {
   "cell_type": "markdown",
   "metadata": {},
   "source": [
    "## Write a script"
   ]
  },
  {
   "cell_type": "code",
   "execution_count": 11,
   "metadata": {},
   "outputs": [
    {
     "name": "stdout",
     "output_type": "stream",
     "text": [
      "Hello world!\n",
      "What is your name?\n"
     ]
    },
    {
     "name": "stdin",
     "output_type": "stream",
     "text": [
      " daniel\n"
     ]
    },
    {
     "name": "stdout",
     "output_type": "stream",
     "text": [
      "It is good to meet you, daniel\n",
      "The length of your name is:\n",
      "6\n",
      "What is your age?\n"
     ]
    },
    {
     "name": "stdin",
     "output_type": "stream",
     "text": [
      " 36\n"
     ]
    },
    {
     "name": "stdout",
     "output_type": "stream",
     "text": [
      "You will be 37 in a year.\n"
     ]
    }
   ],
   "source": [
    "# Python - This program says hello and asks for my name. We'll save this program to a function and call it\n",
    "def first_python_program():\n",
    "    print('Hello world!')\n",
    "    print('What is your name?')    # ask for their name\n",
    "    myName = input()\n",
    "    print('It is good to meet you, ' + myName)\n",
    "    print('The length of your name is:')\n",
    "    print(len(myName))\n",
    "    print('What is your age?')    # ask for their age\n",
    "    myAge = input()\n",
    "    print('You will be ' + str(int(myAge) + 1) + ' in a year.')\n",
    "    \n",
    "first_python_program()"
   ]
  },
  {
   "cell_type": "markdown",
   "metadata": {},
   "source": [
    "### Powershell - this must be run in powershell itself to work\n",
    "\n",
    "Here's the code:\n",
    "<pre><code>\n",
    "Function FirstPowershellProgram{\n",
    "'Hello world!'\n",
    "$myName = Read-Host -Prompt 'What is your name?'\n",
    "'It is good to meet you, ' + $myName\n",
    "'The langth of your name is:'\n",
    "$myName.length\n",
    "[int]$myAge = Read-Host -Prompt 'What is your age?'\n",
    "'You will be ' + ($myAge + 1) + ' in a year.' \n",
    "}\n",
    "\n",
    "FirstPowershellProgram\n",
    "</code></pre>\n",
    "\n",
    "And here are the results:\n",
    "<pre>\n",
    "PS C:\\Users\\dshorstein> FirstPowershellProgram\n",
    "Hello world!\n",
    "What is your name?: Daniel\n",
    "It is good to meet you, Daniel\n",
    "The langth of your name is:\n",
    "6\n",
    "What is your age?: 36\n",
    "You will be 37 in a year.\n",
    "PS C:\\Users\\dshorstein>\n",
    "</pre>"
   ]
  },
  {
   "cell_type": "code",
   "execution_count": 12,
   "metadata": {},
   "outputs": [],
   "source": [
    "# Comparison Operators\n",
    "# Python       PowerShell       Meaning\n",
    "#   ==            -eq           Equal to\n",
    "#   !=            -ne           Not equal to\n",
    "#   <             -lt           Less than\n",
    "#   >             -gt           Greater than\n",
    "#   <=            -le           Less than or equal to\n",
    "#   >=             -ge           Greater than or equal to"
   ]
  },
  {
   "cell_type": "code",
   "execution_count": 13,
   "metadata": {},
   "outputs": [
    {
     "name": "stdout",
     "output_type": "stream",
     "text": [
      "True\n",
      "False\n",
      "True\n",
      "False\n"
     ]
    }
   ],
   "source": [
    "print(42 == 42)\n",
    "print(42 == 99)\n",
    "print(2 != 3)\n",
    "print(2 != 2)"
   ]
  },
  {
   "cell_type": "code",
   "execution_count": 14,
   "metadata": {},
   "outputs": [
    {
     "name": "stdout",
     "output_type": "stream",
     "text": [
      "True\n",
      "False\n",
      "True\n",
      "False\n"
     ]
    }
   ],
   "source": [
    "!powershell.exe 42 -eq 42 ;\\\n",
    "42 -eq 99 ;\\\n",
    "2 -ne 3 ;\\\n",
    "2 -ne 2"
   ]
  },
  {
   "cell_type": "code",
   "execution_count": 15,
   "metadata": {},
   "outputs": [
    {
     "name": "stdout",
     "output_type": "stream",
     "text": [
      "True\n",
      "False\n",
      "True\n",
      "True\n",
      "True\n",
      "True\n",
      "False\n"
     ]
    }
   ],
   "source": [
    "print('hello' == 'hello')\n",
    "print('hello' == 'Hello')\n",
    "print('dog' != 'cat')\n",
    "print(True == True)\n",
    "print(True != False)\n",
    "print(42 == 42.0)\n",
    "print(42 == '42')"
   ]
  },
  {
   "cell_type": "code",
   "execution_count": 16,
   "metadata": {},
   "outputs": [
    {
     "name": "stdout",
     "output_type": "stream",
     "text": [
      "True\n",
      "False\n",
      "True\n",
      "True\n",
      "True\n",
      "True\n",
      "False\n"
     ]
    }
   ],
   "source": [
    "# must use 'clike' to check case sensitive\n",
    "\n",
    "!powershell.exe 'hello' -eq 'hello' ;\\\n",
    "'hello' -clike 'Hello' ;\\\n",
    "'dog' -ne 'cat' ;\\\n",
    "[bool]1 -eq [bool]1 ;\\\n",
    "[bool]1 -ne [bool]0 ;\\\n",
    "42 -eq 42.0 ;\\\n",
    "42 -ne '42'"
   ]
  },
  {
   "cell_type": "code",
   "execution_count": 17,
   "metadata": {},
   "outputs": [
    {
     "name": "stdout",
     "output_type": "stream",
     "text": [
      "True\n",
      "False\n",
      "False\n",
      "True\n",
      "True\n"
     ]
    }
   ],
   "source": [
    "print(42 < 100)\n",
    "print(42 > 100)\n",
    "print(42 < 42)\n",
    "eggCount = 42\n",
    "print(eggCount <= 42)\n",
    "myAge = 29\n",
    "print(myAge >= 10)"
   ]
  },
  {
   "cell_type": "code",
   "execution_count": 18,
   "metadata": {},
   "outputs": [
    {
     "name": "stdout",
     "output_type": "stream",
     "text": [
      "True\n",
      "False\n",
      "False\n",
      "True\n",
      "True\n"
     ]
    }
   ],
   "source": [
    "!powershell.exe 42 -lt 100 ;\\\n",
    "42 -gt 100 ;\\\n",
    "42 -lt 42 ;\\\n",
    "$EggCount = 42 ;\\\n",
    "$EggCount -le 42 ;\\\n",
    "$MyAge = 29 ;\\\n",
    "$MyAge -ge 10"
   ]
  },
  {
   "cell_type": "code",
   "execution_count": null,
   "metadata": {},
   "outputs": [],
   "source": []
  },
  {
   "cell_type": "code",
   "execution_count": 19,
   "metadata": {},
   "outputs": [
    {
     "name": "stdout",
     "output_type": "stream",
     "text": [
      "Hello Daniel!\n"
     ]
    }
   ],
   "source": [
    "!powershell.exe function SayHello {param($name) 'Hello ' + $name + '!'} \\\n",
    "SayHello Daniel"
   ]
  },
  {
   "cell_type": "code",
   "execution_count": null,
   "metadata": {},
   "outputs": [],
   "source": []
  }
 ],
 "metadata": {
  "kernelspec": {
   "display_name": "Python 3",
   "language": "python",
   "name": "python3"
  },
  "language_info": {
   "codemirror_mode": {
    "name": "ipython",
    "version": 3
   },
   "file_extension": ".py",
   "mimetype": "text/x-python",
   "name": "python",
   "nbconvert_exporter": "python",
   "pygments_lexer": "ipython3",
   "version": "3.5.4"
  }
 },
 "nbformat": 4,
 "nbformat_minor": 2
}
