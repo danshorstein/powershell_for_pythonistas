{
 "cells": [
  {
   "cell_type": "markdown",
   "metadata": {},
   "source": [
    "# Chapter 3 - Functions"
   ]
  },
  {
   "cell_type": "markdown",
   "metadata": {},
   "source": [
    "## The return statement"
   ]
  },
  {
   "cell_type": "code",
   "execution_count": 36,
   "metadata": {},
   "outputs": [
    {
     "name": "stdout",
     "output_type": "stream",
     "text": [
      "It is certain\n"
     ]
    }
   ],
   "source": [
    "import random\n",
    "def getAnswer(answerNumber):\n",
    "    answers = ['It is certain',\n",
    "              'It is decidedly so',\n",
    "              'Yes',\n",
    "              'Reply hazy try again',\n",
    "              'Ask again later',\n",
    "              'Concentrate and ask again',\n",
    "              'My reply is no',\n",
    "              'Outlook not so good',\n",
    "              'Very doubtful']\n",
    "    return answers[answerNumber]\n",
    "\n",
    "r = random.randint(0, 8)\n",
    "fortune = getAnswer(r)\n",
    "print(fortune)"
   ]
  },
  {
   "cell_type": "code",
   "execution_count": 37,
   "metadata": {},
   "outputs": [
    {
     "name": "stdout",
     "output_type": "stream",
     "text": [
      "Outlook not so good\n"
     ]
    }
   ],
   "source": [
    "!powershell \\\n",
    "Function GetAnswer { \\\n",
    "    param ([int]$AnswerNumber) ;\\\n",
    "    $Answers = 'It is certain', \\\n",
    "              'It is decidedly so',\\\n",
    "              'Yes',\\\n",
    "              'Reply hazy try again',\\\n",
    "              'Ask again later',\\\n",
    "              'Concentrate and ask again',\\\n",
    "              'My reply is no',\\\n",
    "              'Outlook not so good',\\\n",
    "              'Very doubtful';\\\n",
    "    $Answers[$AnswerNumber]\\\n",
    "} ;\\\n",
    "$R = Get-Random (0..8) ;\\\n",
    "$Fortune = GetAnswer $R ;\\\n",
    "$Fortune"
   ]
  },
  {
   "cell_type": "markdown",
   "metadata": {},
   "source": [
    "## None value..."
   ]
  },
  {
   "cell_type": "code",
   "execution_count": 38,
   "metadata": {},
   "outputs": [
    {
     "name": "stdout",
     "output_type": "stream",
     "text": [
      "hello\n"
     ]
    }
   ],
   "source": [
    "spam = print('hello')"
   ]
  },
  {
   "cell_type": "code",
   "execution_count": 40,
   "metadata": {},
   "outputs": [
    {
     "data": {
      "text/plain": [
       "True"
      ]
     },
     "execution_count": 40,
     "metadata": {},
     "output_type": "execute_result"
    }
   ],
   "source": [
    "None is spam"
   ]
  },
  {
   "cell_type": "code",
   "execution_count": null,
   "metadata": {},
   "outputs": [],
   "source": []
  }
 ],
 "metadata": {
  "kernelspec": {
   "display_name": "Python [default]",
   "language": "python",
   "name": "python3"
  },
  "language_info": {
   "codemirror_mode": {
    "name": "ipython",
    "version": 3
   },
   "file_extension": ".py",
   "mimetype": "text/x-python",
   "name": "python",
   "nbconvert_exporter": "python",
   "pygments_lexer": "ipython3",
   "version": "3.7.1"
  }
 },
 "nbformat": 4,
 "nbformat_minor": 2
}
