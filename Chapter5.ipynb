{
 "cells": [
  {
   "cell_type": "markdown",
   "metadata": {},
   "source": [
    "# Chapter 5 - Dictionaries and Structuring Data"
   ]
  },
  {
   "cell_type": "markdown",
   "metadata": {},
   "source": [
    "## Dictionaries"
   ]
  },
  {
   "cell_type": "code",
   "execution_count": 275,
   "metadata": {},
   "outputs": [
    {
     "data": {
      "text/plain": [
       "'fat'"
      ]
     },
     "execution_count": 275,
     "metadata": {},
     "output_type": "execute_result"
    }
   ],
   "source": [
    "myCat = {'size': 'fat', 'color': 'gray', 'disposition': 'loud'}\n",
    "myCat['size']"
   ]
  },
  {
   "cell_type": "code",
   "execution_count": 284,
   "metadata": {},
   "outputs": [
    {
     "name": "stdout",
     "output_type": "stream",
     "text": [
      "fat\n"
     ]
    }
   ],
   "source": [
    "!powershell ;\\\n",
    "$MyCat = @{size= 'fat'; color= 'gray'; disposition= 'loud'} ;\\\n",
    "$MyCat['size']"
   ]
  },
  {
   "cell_type": "markdown",
   "metadata": {},
   "source": [
    "### keys(), values(), and items() Methods"
   ]
  },
  {
   "cell_type": "code",
   "execution_count": 285,
   "metadata": {},
   "outputs": [
    {
     "name": "stdout",
     "output_type": "stream",
     "text": [
      "dict_keys(['size', 'color', 'disposition'])\n",
      "dict_values(['fat', 'gray', 'loud'])\n",
      "dict_items([('size', 'fat'), ('color', 'gray'), ('disposition', 'loud')])\n"
     ]
    }
   ],
   "source": [
    "myCat = {'size': 'fat', 'color': 'gray', 'disposition': 'loud'}\n",
    "print(myCat.keys())\n",
    "print(myCat.values())\n",
    "print(myCat.items())"
   ]
  },
  {
   "cell_type": "code",
   "execution_count": 296,
   "metadata": {},
   "outputs": [
    {
     "name": "stdout",
     "output_type": "stream",
     "text": [
      "color disposition size\n",
      "gray loud fat\n",
      "\n",
      "Name                           Value                                           \n",
      "----                           -----                                           \n",
      "color                          gray                                            \n",
      "disposition                    loud                                            \n",
      "size                           fat                                             \n",
      "\n",
      "\n",
      "\n"
     ]
    }
   ],
   "source": [
    "# Not quite sure yet how to deal with the .items / GetEnumerator yet...\n",
    "!powershell ;\\\n",
    "$MyCat = @{size= 'fat'; color= 'gray'; disposition= 'loud'} ;\\\n",
    "Write-Host $MyCat.keys ;\\\n",
    "Write-Host $MyCat.values ;\\\n",
    "$MyCat.GetEnumerator() ^| Out-String"
   ]
  },
  {
   "cell_type": "code",
   "execution_count": null,
   "metadata": {},
   "outputs": [],
   "source": []
  }
 ],
 "metadata": {
  "kernelspec": {
   "display_name": "Python [default]",
   "language": "python",
   "name": "python3"
  },
  "language_info": {
   "codemirror_mode": {
    "name": "ipython",
    "version": 3
   },
   "file_extension": ".py",
   "mimetype": "text/x-python",
   "name": "python",
   "nbconvert_exporter": "python",
   "pygments_lexer": "ipython3",
   "version": "3.7.1"
  }
 },
 "nbformat": 4,
 "nbformat_minor": 2
}
