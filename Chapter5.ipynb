{
 "cells": [
  {
   "cell_type": "markdown",
   "metadata": {},
   "source": [
    "# Chapter 5 - Dictionaries and Structuring Data"
   ]
  },
  {
   "cell_type": "code",
   "execution_count": 453,
   "metadata": {},
   "outputs": [
    {
     "name": "stdout",
     "output_type": "stream",
     "text": [
      "\n",
      "\n",
      "   TypeName: System.Collections.Hashtable\n",
      "\n",
      "Name              MemberType Definition                                        \n",
      "----              ---------- ----------                                        \n",
      "Add               Method     void Add(System.Object key, System.Object value...\n",
      "Clear             Method     void Clear(), void IDictionary.Clear()            \n",
      "Clone             Method     System.Object Clone(), System.Object ICloneable...\n",
      "Contains          Method     bool Contains(System.Object key), bool IDiction...\n",
      "ContainsKey       Method     bool ContainsKey(System.Object key)               \n",
      "ContainsValue     Method     bool ContainsValue(System.Object value)           \n",
      "CopyTo            Method     void CopyTo(array array, int arrayIndex), void ...\n",
      "Equals            Method     bool Equals(System.Object obj)                    \n",
      "GetEnumerator     Method     System.Collections.IDictionaryEnumerator GetEnu...\n",
      "GetHashCode       Method     int GetHashCode()                                 \n",
      "GetObjectData     Method     void GetObjectData(System.Runtime.Serialization...\n",
      "GetType           Method     type GetType()                                    \n",
      "OnDeserialization Method     void OnDeserialization(System.Object sender), v...\n",
      "Remove            Method     void Remove(System.Object key), void IDictionar...\n",
      "ToString          Method     string ToString()                                 \n",
      "\n",
      "\n"
     ]
    }
   ],
   "source": [
    "# Let's see what methods are available for Powershell HashTables\n",
    "!powershell @{} ^| Get-Member -MemberType Method"
   ]
  },
  {
   "cell_type": "markdown",
   "metadata": {},
   "source": [
    "## Dictionaries / HashTables"
   ]
  },
  {
   "cell_type": "code",
   "execution_count": 275,
   "metadata": {},
   "outputs": [
    {
     "data": {
      "text/plain": [
       "'fat'"
      ]
     },
     "execution_count": 275,
     "metadata": {},
     "output_type": "execute_result"
    }
   ],
   "source": [
    "myCat = {'size': 'fat', 'color': 'gray', 'disposition': 'loud'}\n",
    "myCat['size']"
   ]
  },
  {
   "cell_type": "code",
   "execution_count": 284,
   "metadata": {},
   "outputs": [
    {
     "name": "stdout",
     "output_type": "stream",
     "text": [
      "fat\n"
     ]
    }
   ],
   "source": [
    "!powershell ;\\\n",
    "$MyCat = @{size= 'fat'; color= 'gray'; disposition= 'loud'} ;\\\n",
    "$MyCat['size']"
   ]
  },
  {
   "cell_type": "markdown",
   "metadata": {},
   "source": [
    "### keys(), values(), and items() Methods"
   ]
  },
  {
   "cell_type": "code",
   "execution_count": 285,
   "metadata": {},
   "outputs": [
    {
     "name": "stdout",
     "output_type": "stream",
     "text": [
      "dict_keys(['size', 'color', 'disposition'])\n",
      "dict_values(['fat', 'gray', 'loud'])\n",
      "dict_items([('size', 'fat'), ('color', 'gray'), ('disposition', 'loud')])\n"
     ]
    }
   ],
   "source": [
    "myCat = {'size': 'fat', 'color': 'gray', 'disposition': 'loud'}\n",
    "print(myCat.keys())\n",
    "print(myCat.values())\n",
    "print(myCat.items())"
   ]
  },
  {
   "cell_type": "code",
   "execution_count": 324,
   "metadata": {},
   "outputs": [
    {
     "name": "stdout",
     "output_type": "stream",
     "text": [
      "color disposition size\n",
      "gray loud fat\n",
      "color gray disposition loud size fat\n"
     ]
    }
   ],
   "source": [
    "# Not quite sure yet how to deal with the .items / GetEnumerator yet...\n",
    "!powershell ;\\\n",
    "$MyCat = @{size= 'fat'; color= 'gray'; disposition= 'loud'} ;\\\n",
    "Write-Host $MyCat.keys ;\\\n",
    "Write-Host $MyCat.values ;\\\n",
    "Write-Host ($MyCat.GetEnumerator() ^| ForEach-Object {$_.key, $_.value})"
   ]
  },
  {
   "cell_type": "markdown",
   "metadata": {},
   "source": [
    "### Checking Whether a Key or Value Exists in a Dictionary"
   ]
  },
  {
   "cell_type": "code",
   "execution_count": 315,
   "metadata": {},
   "outputs": [
    {
     "name": "stdout",
     "output_type": "stream",
     "text": [
      "True\n",
      "False\n",
      "True\n",
      "True\n"
     ]
    }
   ],
   "source": [
    "myCat = {'size': 'fat', 'color': 'gray', 'disposition': 'loud'}\n",
    "print('color' in myCat.keys())\n",
    "print('gray' in myCat.keys())\n",
    "print('gray' in myCat.values())\n",
    "print('age' not in myCat.keys())"
   ]
  },
  {
   "cell_type": "code",
   "execution_count": 318,
   "metadata": {},
   "outputs": [
    {
     "name": "stdout",
     "output_type": "stream",
     "text": [
      "True\n",
      "False\n",
      "True\n",
      "True\n"
     ]
    }
   ],
   "source": [
    "!powershell \\\n",
    "$MyCat = @{'size'='fat'; 'color'='gray'; 'disposition'= 'loud'} ;\\\n",
    "Write-Host ($MyCat.keys -contains 'color') ;\\\n",
    "Write-Host ($MyCat.keys -contains 'gray') ;\\\n",
    "Write-Host ($MyCat.values -contains 'gray') ;\\\n",
    "Write-Host (!($MyCat.keys -contains 'age'))"
   ]
  },
  {
   "cell_type": "markdown",
   "metadata": {},
   "source": [
    "### Get and Setdefault behavior"
   ]
  },
  {
   "cell_type": "code",
   "execution_count": 326,
   "metadata": {},
   "outputs": [
    {
     "name": "stdout",
     "output_type": "stream",
     "text": [
      "I will bring 5 apples\n",
      "I will bring 0 bananas\n"
     ]
    }
   ],
   "source": [
    "picnicItems = {'apples': 5, 'cups': 2}\n",
    "print(f'I will bring {picnicItems.get(\"apples\", 0)} apples')\n",
    "print(f'I will bring {picnicItems.get(\"bananas\", 0)} bananas')      "
   ]
  },
  {
   "cell_type": "code",
   "execution_count": 340,
   "metadata": {},
   "outputs": [
    {
     "name": "stdout",
     "output_type": "stream",
     "text": [
      "I will bring 5 apples\n",
      "I will bring 0 bananas\n"
     ]
    }
   ],
   "source": [
    "# Powershell doesn't have same get behavior, you can add by adding a function\n",
    "!powershell \\\n",
    "$PicnicItems = @{apples=5; cups=2} ;\\\n",
    "function DictGet($a, $b) { if ($a -ne $null) { $a } else { $b } } ;\\\n",
    "Write-Host \"I will bring (DictGet $PicnicItems['apples'] 0) apples\" ;\\\n",
    "Write-Host \"I will bring (DictGet $PicnicItems['bananas'] 0) bananas\" \n"
   ]
  },
  {
   "cell_type": "markdown",
   "metadata": {},
   "source": [
    "### Experimentation time!!! Create a subclass\n",
    "<pre>This is nice, it allows to have similar functionality, but it's not very Pythonic!\n",
    "I'd love to add a method to the HashTable class to allow similar functionality....\n",
    "Let's do it!</pre>"
   ]
  },
  {
   "cell_type": "markdown",
   "metadata": {},
   "source": [
    "<pre>We can create a custom class that inherets from hashtable and add Get;\n",
    "\n",
    "This will create a new class called Dict, adding the Get method\n",
    "However this is only accessible in the session it's created in. To save for future sessions,\n",
    "We can save this script inside a Profile. I've done that in the $profile.CurrentUserAllHosts\n",
    "Here is code to add a new profile if one doesn't already exist:\n",
    "\n",
    "If (!(Test-Path -Path $profile.CurrentUserAllHosts)) {New-Item -ItemType File -Path $profile.CurrentUserAllHosts -Force}\n",
    "\n",
    "</pre>"
   ]
  },
  {
   "cell_type": "code",
   "execution_count": 461,
   "metadata": {},
   "outputs": [
    {
     "name": "stdout",
     "output_type": "stream",
     "text": [
      "I will bring 5 apples\n",
      "I will bring 0 bananas\n"
     ]
    }
   ],
   "source": [
    "# Here we are saving a script to a file called dict.ps1 and running it. \n",
    "# Note this will only work if you've set your permissions to allow running scripts\n",
    "script = \"\"\"\n",
    "Class Dict : Hashtable{\n",
    "   [System.Object[]] Get ([system.object]$Key,[System.Object[]]$Values) {\n",
    "       if( -not ($this.get_Keys() -contains $Key) ) {\n",
    "           Return $Values\n",
    "       }\n",
    "       Return $this[$key]\n",
    "   }\n",
    "   Dict($Hash) : base($Hash) {}  \n",
    "}\n",
    "\n",
    "$PicnicItems = [Dict]@{apples=5}\n",
    "Write-Host \"I will bring\" ($PicnicItems.Get('apples', 0)) \"apples\" \n",
    "Write-Host \"I will bring\" ($PicnicItems.Get('bananas', 0)) \"bananas\" \n",
    "\"\"\"\n",
    "\n",
    "with open('dict.ps1', 'w') as f:\n",
    "    f.write(script)\n",
    "    \n",
    "!powershell ./dict.ps1 "
   ]
  },
  {
   "cell_type": "code",
   "execution_count": 458,
   "metadata": {},
   "outputs": [
    {
     "name": "stdout",
     "output_type": "stream",
     "text": [
      "\n",
      "\n",
      "   TypeName: Dict\n",
      "\n",
      "Name MemberType Definition                                                    \n",
      "---- ---------- ----------                                                    \n",
      "Get  Method     System.Object[] Get(System.Object Key, System.Object[] Values)\n",
      "\n",
      "\n"
     ]
    }
   ],
   "source": [
    "# After adding the script to my profile, let's see if the new method is available:\n",
    "# Check to see if new method exists in the Dict class!\n",
    "!powershell [Dict]::new() ^| Get-Member -Name Get"
   ]
  },
  {
   "cell_type": "code",
   "execution_count": 382,
   "metadata": {},
   "outputs": [
    {
     "name": "stdout",
     "output_type": "stream",
     "text": [
      "I will bring 5 apples\n",
      "I will bring 0 bananas\n"
     ]
    }
   ],
   "source": [
    "# After adding the Dict class to my profile, I can just create a new type of Dict!\n",
    "!powershell \\\n",
    "$PicnicItems = [Dict]::new() ;\\\n",
    "$PicnicItems.add('apples', '5') ;\\\n",
    "Write-Host \"I will bring ($PicnicItems.Get('apples', 0)) apples\" ;\\\n",
    "Write-Host \"I will bring ($PicnicItems.Get('bananas', 0)) bananas\" "
   ]
  },
  {
   "cell_type": "markdown",
   "metadata": {},
   "source": [
    "### Let's do something similar with setdefault"
   ]
  },
  {
   "cell_type": "code",
   "execution_count": 385,
   "metadata": {},
   "outputs": [
    {
     "name": "stdout",
     "output_type": "stream",
     "text": [
      "black\n",
      "black\n",
      "purple\n"
     ]
    }
   ],
   "source": [
    "# SetDefault in Python allows you to set a default value if none exists, but does not overwrite the value if it does exist\n",
    "spam = {'name': 'Pooka', 'age': 5}\n",
    "spam.setdefault('color', 'black')\n",
    "print(spam['color'])\n",
    "spam.setdefault('color', 'purple') #doesnt change because already has value of black\n",
    "print(spam['color'])\n",
    "spam['color'] = 'purple'\n",
    "print(spam['color'])"
   ]
  },
  {
   "cell_type": "code",
   "execution_count": 389,
   "metadata": {},
   "outputs": [
    {
     "name": "stdout",
     "output_type": "stream",
     "text": [
      "black\n",
      "black\n",
      "purple\n"
     ]
    }
   ],
   "source": [
    "# Note in Powershell you can call a HashTable value by the hash[\"key\"] or by hash.key\n",
    "!powershell \\\n",
    "function DictSetDefault($dict, $key, $val) { if ($dict[$key] -eq $null) {$dict[$key]=$val }  } ;\\\n",
    "$Spam = @{name='Pooka'; age=5} ;\\\n",
    "DictSetDefault $Spam 'color' 'black' ;\\\n",
    "Write-Host $Spam.color  ;\\\n",
    "DictSetDefault $Spam 'color' 'purple' ;\\\n",
    "Write-Host $Spam.color ;\\\n",
    "$Spam['color'] = 'purple' ;\\\n",
    "Write-Host $Spam.color"
   ]
  },
  {
   "cell_type": "markdown",
   "metadata": {},
   "source": [
    "### Update our Dict class\n",
    "New script is:\n",
    "<pre>Class Dict : Hashtable{\n",
    "   [System.Object[]] Get ([system.object]$Key, [System.Object[]]$Values) {\n",
    "       if( -not ($this.get_Keys() -contains $Key) ) {\n",
    "           Return $Values\n",
    "       }\n",
    "       Return $this[$key]\n",
    "   }\n",
    "   [Void] SetDefault ([system.object]$Key, [System.Object]$Values) {\n",
    "       if( $this[$Key] -eq $Null ) {\n",
    "           $this[$Key] = $Values\n",
    "       }\n",
    "   }\n",
    "   Dict($Hash) : base($Hash) {}  \n",
    "}\n",
    "</pre>"
   ]
  },
  {
   "cell_type": "code",
   "execution_count": 464,
   "metadata": {},
   "outputs": [
    {
     "name": "stdout",
     "output_type": "stream",
     "text": [
      "\n",
      "\n",
      "   TypeName: Dict\n",
      "\n",
      "Name       MemberType Definition                                              \n",
      "----       ---------- ----------                                              \n",
      "SetDefault Method     void SetDefault(System.Object Key, System.Object Values)\n",
      "\n",
      "\n"
     ]
    }
   ],
   "source": [
    "# Check to see if new method exists in the Dict class!\n",
    "!powershell [Dict]@{} ^| Get-Member -Name SetDefault"
   ]
  },
  {
   "cell_type": "code",
   "execution_count": 462,
   "metadata": {},
   "outputs": [
    {
     "name": "stdout",
     "output_type": "stream",
     "text": [
      "black\n",
      "black\n",
      "purple\n"
     ]
    }
   ],
   "source": [
    "# Note in Powershell you can call a HashTable value by the hash[\"key\"] or by hash.key\n",
    "!powershell \\\n",
    "$Spam = [Dict]@{name='pooka'; age=5} ;\\\n",
    "$Spam.SetDefault('color', 'black') ;\\\n",
    "Write-Host $Spam.color  ;\\\n",
    "$Spam.SetDefault('color', 'purple') ;\\\n",
    "Write-Host $Spam.color ;\\\n",
    "$Spam['color'] = 'purple' ;\\\n",
    "Write-Host $Spam.color"
   ]
  },
  {
   "cell_type": "markdown",
   "metadata": {},
   "source": [
    "### Prettify output"
   ]
  },
  {
   "cell_type": "code",
   "execution_count": 451,
   "metadata": {},
   "outputs": [
    {
     "name": "stdout",
     "output_type": "stream",
     "text": [
      "UGLY\n",
      "{'I': 1, 't': 6, ' ': 12, 'w': 2, 'a': 4, 's': 3, 'b': 1, 'r': 5, 'i': 6, 'g': 2, 'h': 3, 'd': 2, 'y': 1, 'n': 4, 'A': 1, 'p': 1, 'l': 2, ',': 1, 'e': 5, 'c': 2, 'o': 1, 'k': 2, '.': 1}\n",
      "\n",
      "PRETTY\n",
      "{' ': 12,\n",
      " ',': 1,\n",
      " '.': 1,\n",
      " 'A': 1,\n",
      " 'I': 1,\n",
      " 'a': 4,\n",
      " 'b': 1,\n",
      " 'c': 2,\n",
      " 'd': 2,\n",
      " 'e': 5,\n",
      " 'g': 2,\n",
      " 'h': 3,\n",
      " 'i': 6,\n",
      " 'k': 2,\n",
      " 'l': 2,\n",
      " 'n': 4,\n",
      " 'o': 1,\n",
      " 'p': 1,\n",
      " 'r': 5,\n",
      " 's': 3,\n",
      " 't': 6,\n",
      " 'w': 2,\n",
      " 'y': 1}\n"
     ]
    }
   ],
   "source": [
    "import pprint\n",
    "message = 'It was a bright day in April, and the clocks were striking thirteen.'\n",
    "count = {}\n",
    "\n",
    "for character in message:\n",
    "    count.setdefault(character, 0)\n",
    "    count[character] = count[character] + 1\n",
    "print('UGLY')\n",
    "print(count)\n",
    "print()\n",
    "print('PRETTY')\n",
    "pprint.pprint(count)"
   ]
  },
  {
   "cell_type": "code",
   "execution_count": 450,
   "metadata": {},
   "outputs": [
    {
     "name": "stdout",
     "output_type": "stream",
     "text": [
      "UGLY\n",
      "\n",
      "Name                           Value                                           \n",
      "----                           -----                                           \n",
      "c                              3                                               \n",
      "A                              1                                               \n",
      "a                              4                                               \n",
      "g                              2                                               \n",
      "d                              3                                               \n",
      "e                              5                                               \n",
      "b                              1                                               \n",
      ".                              1                                               \n",
      "y                              1                                               \n",
      "r                              5                                               \n",
      "s                              3                                               \n",
      "p                              1                                               \n",
      ",                              1                                               \n",
      "w                              2                                               \n",
      "t                              6                                               \n",
      "                               13                                              \n",
      "k                              2                                               \n",
      "h                              3                                               \n",
      "i                              6                                               \n",
      "n                              4                                               \n",
      "o                              2                                               \n",
      "l                              3                                               \n",
      "I                              1                                               \n",
      "PRETTY\n",
      "{\n",
      "    \"c\":  3,\n",
      "    \"A\":  1,\n",
      "    \"a\":  4,\n",
      "    \"g\":  2,\n",
      "    \"d\":  3,\n",
      "    \"e\":  5,\n",
      "    \"b\":  1,\n",
      "    \".\":  1,\n",
      "    \"y\":  1,\n",
      "    \"r\":  5,\n",
      "    \"s\":  3,\n",
      "    \"p\":  1,\n",
      "    \",\":  1,\n",
      "    \"w\":  2,\n",
      "    \"t\":  6,\n",
      "    \" \":  13,\n",
      "    \"k\":  2,\n",
      "    \"h\":  3,\n",
      "    \"i\":  6,\n",
      "    \"n\":  4,\n",
      "    \"o\":  2,\n",
      "    \"l\":  3,\n",
      "    \"I\":  1\n",
      "}\n",
      "\n",
      "\n"
     ]
    }
   ],
   "source": [
    "!powershell \\\n",
    "$Message = 'It was a bright cold day in April, and the clocks were striking thirteen.' ;\\\n",
    "$Count = [Dict]::new() ;\\\n",
    "ForEach ($Char in $Message.toCharArray()) \\\n",
    "{ \\\n",
    "    $Count.SetDefault([string]$Char, 0); \\\n",
    "    $Count[[string]$Char] += 1   \\\n",
    "}  ;\\\n",
    "Write-Host \"UGLY\" ;\\\n",
    "$Count.GetEnumerator() ;\\\n",
    "Write-Host \"PRETTY\" ;\\\n",
    "$Count ^| ConvertTo-Json"
   ]
  },
  {
   "cell_type": "code",
   "execution_count": null,
   "metadata": {},
   "outputs": [],
   "source": []
  },
  {
   "cell_type": "code",
   "execution_count": null,
   "metadata": {},
   "outputs": [],
   "source": []
  }
 ],
 "metadata": {
  "kernelspec": {
   "display_name": "Python [default]",
   "language": "python",
   "name": "python3"
  },
  "language_info": {
   "codemirror_mode": {
    "name": "ipython",
    "version": 3
   },
   "file_extension": ".py",
   "mimetype": "text/x-python",
   "name": "python",
   "nbconvert_exporter": "python",
   "pygments_lexer": "ipython3",
   "version": "3.7.1"
  }
 },
 "nbformat": 4,
 "nbformat_minor": 2
}
