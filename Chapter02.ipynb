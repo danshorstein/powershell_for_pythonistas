{
 "cells": [
  {
   "cell_type": "markdown",
   "metadata": {},
   "source": [
    "# Chapter 2 - Flow Control"
   ]
  },
  {
   "cell_type": "markdown",
   "metadata": {},
   "source": [
    "## Flow control in a program"
   ]
  },
  {
   "cell_type": "code",
   "execution_count": 31,
   "metadata": {},
   "outputs": [
    {
     "name": "stdout",
     "output_type": "stream",
     "text": [
      "hi mary!\n",
      "access granted!\n"
     ]
    }
   ],
   "source": [
    "name = 'mary'\n",
    "password = 'swordfish'\n",
    "if name == 'mary':\n",
    "    print('hi mary!')\n",
    "    if password == 'swordfish':\n",
    "        print('access granted!')\n",
    "    else:\n",
    "        print('access denied')"
   ]
  },
  {
   "cell_type": "code",
   "execution_count": 32,
   "metadata": {},
   "outputs": [
    {
     "name": "stdout",
     "output_type": "stream",
     "text": [
      "hi mary!\n",
      "access granted!\n"
     ]
    }
   ],
   "source": [
    "!powershell \\\n",
    "$Name = 'mary' ;\\\n",
    "$Password = 'swordfish' ;\\\n",
    "if ($Name -clike 'mary') { \\\n",
    "'hi mary!' ;\\\n",
    "if ($Password -clike 'swordfish') { \\\n",
    "'access granted!' \\\n",
    "} Else {'access denied'}}\n"
   ]
  },
  {
   "cell_type": "code",
   "execution_count": 33,
   "metadata": {},
   "outputs": [
    {
     "name": "stdout",
     "output_type": "stream",
     "text": [
      "hey bob\n"
     ]
    }
   ],
   "source": [
    "name = 'bob'\n",
    "if name == 'sarah':\n",
    "    print('hi sarah')\n",
    "elif name == 'bob':\n",
    "    print('hey bob')\n",
    "else:\n",
    "    print('i dont know you')"
   ]
  },
  {
   "cell_type": "code",
   "execution_count": 34,
   "metadata": {},
   "outputs": [
    {
     "name": "stdout",
     "output_type": "stream",
     "text": [
      "hey bob\n"
     ]
    }
   ],
   "source": [
    "!powershell \\\n",
    "$Name = 'bob' ;\\\n",
    "if ($Name -clike 'sarah') { \\\n",
    "    'hi sarah' \\\n",
    "} elseif ($Name -clike 'bob') { \\\n",
    "    'hey bob' \\\n",
    "} else {'i dont know you'}"
   ]
  },
  {
   "cell_type": "code",
   "execution_count": 35,
   "metadata": {},
   "outputs": [
    {
     "name": "stdout",
     "output_type": "stream",
     "text": [
      "hi spam!\n",
      "hi spam!\n",
      "hi spam!\n",
      "hi spam!\n",
      "hi spam!\n"
     ]
    }
   ],
   "source": [
    "spam = 0\n",
    "while spam < 5:\n",
    "    print('hi spam!')\n",
    "    spam += 1"
   ]
  },
  {
   "cell_type": "code",
   "execution_count": 36,
   "metadata": {},
   "outputs": [
    {
     "name": "stdout",
     "output_type": "stream",
     "text": [
      "hi spam!\n",
      "hi spam!\n",
      "hi spam!\n",
      "hi spam!\n",
      "hi spam!\n"
     ]
    }
   ],
   "source": [
    "!powershell \\\n",
    "$Spam = 0 ;\\\n",
    "While ($Spam -lt 5) { \\\n",
    "    'hi spam!';\\\n",
    "    $Spam += 1 }"
   ]
  },
  {
   "cell_type": "markdown",
   "metadata": {},
   "source": [
    "## Break statement"
   ]
  },
  {
   "cell_type": "code",
   "execution_count": 37,
   "metadata": {},
   "outputs": [
    {
     "name": "stdin",
     "output_type": "stream",
     "text": [
      "Please type your name. dan\n",
      "Please type your name. bob\n",
      "Please type your name. your name\n"
     ]
    },
    {
     "name": "stdout",
     "output_type": "stream",
     "text": [
      "Thank you!\n"
     ]
    }
   ],
   "source": [
    "while True:                      \n",
    "    name = input('Please type your name.')\n",
    "    if name == 'your name':       \n",
    "        break\n",
    "print('Thank you!')               "
   ]
  },
  {
   "cell_type": "markdown",
   "metadata": {},
   "source": [
    "### PS Code\n",
    "<pre><code>\n",
    "PS C:\\Users\\daniel> While ($True) {\n",
    ">> $Name = Read-Host -Prompt 'Please type your name'\n",
    ">> If ($Name -clike 'your name') {Break} } ; 'Thank you!'\n",
    "Please type your name: dan\n",
    "Please type your name: bob\n",
    "Please type your name: your name\n",
    "Thank you!\n",
    "PS C:\\Users\\daniel>\n",
    "</code</pre>"
   ]
  },
  {
   "cell_type": "markdown",
   "metadata": {},
   "source": [
    "## Continue statement"
   ]
  },
  {
   "cell_type": "code",
   "execution_count": 38,
   "metadata": {},
   "outputs": [
    {
     "name": "stdin",
     "output_type": "stream",
     "text": [
      "Who are you? Joe\n",
      "Hello, Joe. What is the password? (It is a fish.) cuddlefish\n",
      "Who are you? bob\n",
      "Who are you? Joe\n",
      "Hello, Joe. What is the password? (It is a fish.) swordfish\n"
     ]
    },
    {
     "name": "stdout",
     "output_type": "stream",
     "text": [
      "Access granted.\n"
     ]
    }
   ],
   "source": [
    "while True:\n",
    "  name = input('Who are you?')\n",
    "  if name != 'Joe':       \n",
    "    continue              \n",
    "  password = input('Hello, Joe. What is the password? (It is a fish.)') \n",
    "  if password == 'swordfish':\n",
    "    break                 \n",
    "print('Access granted.')  "
   ]
  },
  {
   "cell_type": "markdown",
   "metadata": {},
   "source": [
    "### PS Code\n",
    "<pre><code>\n",
    "PS C:\\Users\\daniel> While ($True) {\n",
    ">> $Name = Read-Host -Prompt 'Who are you?'\n",
    ">> If ($Name -CNotLike 'Joe') {continue}\n",
    ">> $Password = Read-Host -Prompt 'Hello, Joe. What is the password? (It is a fish.)'\n",
    ">> If ($Password -CLike 'swordfish') {break} } ; 'Access granted'\n",
    "Who are you?: Joe\n",
    "Hello, Joe. What is the password? (It is a fish.): cuddlefish\n",
    "Who are you?: bob\n",
    "Who are you?: Joe\n",
    "Hello, Joe. What is the password? (It is a fish.): swordfish\n",
    "Access granted\n",
    "PS C:\\Users\\daniel>\n",
    "</code></pre>"
   ]
  },
  {
   "cell_type": "markdown",
   "metadata": {},
   "source": [
    "## For loops and ranges"
   ]
  },
  {
   "cell_type": "code",
   "execution_count": 39,
   "metadata": {},
   "outputs": [
    {
     "name": "stdout",
     "output_type": "stream",
     "text": [
      "My name is\n",
      "Jimmy Five Times (0)\n",
      "Jimmy Five Times (1)\n",
      "Jimmy Five Times (2)\n",
      "Jimmy Five Times (3)\n",
      "Jimmy Five Times (4)\n"
     ]
    }
   ],
   "source": [
    "print('My name is')\n",
    "for i in range(5):\n",
    "    print('Jimmy Five Times (' + str(i) + ')')"
   ]
  },
  {
   "cell_type": "code",
   "execution_count": 40,
   "metadata": {},
   "outputs": [
    {
     "name": "stdout",
     "output_type": "stream",
     "text": [
      "My name is\n",
      "Jimmy Five Times (0)\n",
      "Jimmy Five Times (1)\n",
      "Jimmy Five Times (2)\n",
      "Jimmy Five Times (3)\n",
      "Jimmy Five Times (4)\n"
     ]
    }
   ],
   "source": [
    "!powershell \\\n",
    "'My name is' ;\\\n",
    "For ($I = 0; $I -lt 5; $I++) { \\\n",
    "   'Jimmy Five Times (' + $I + ')'}"
   ]
  },
  {
   "cell_type": "code",
   "execution_count": 41,
   "metadata": {},
   "outputs": [
    {
     "name": "stdout",
     "output_type": "stream",
     "text": [
      "5050\n"
     ]
    }
   ],
   "source": [
    "total = 0               \n",
    "for num in range(101):  \n",
    "   total = total + num  \n",
    "print(total)            "
   ]
  },
  {
   "cell_type": "code",
   "execution_count": 42,
   "metadata": {},
   "outputs": [
    {
     "name": "stdout",
     "output_type": "stream",
     "text": [
      "5050\n"
     ]
    }
   ],
   "source": [
    "!powershell \\\n",
    "$Total = 0 ;\\\n",
    "For ($N=0; $N -lt 101; $N++) { \\\n",
    "   $Total += $N} ;\\\n",
    "$Total"
   ]
  },
  {
   "cell_type": "code",
   "execution_count": 43,
   "metadata": {},
   "outputs": [
    {
     "name": "stdout",
     "output_type": "stream",
     "text": [
      "My name is\n",
      "Jimmy Five Times (0)\n",
      "Jimmy Five Times (1)\n",
      "Jimmy Five Times (2)\n",
      "Jimmy Five Times (3)\n",
      "Jimmy Five Times (4)\n"
     ]
    }
   ],
   "source": [
    "print('My name is')\n",
    "i = 0\n",
    "while i < 5:\n",
    "    print('Jimmy Five Times (' + str(i) + ')')\n",
    "    i = i + 1"
   ]
  },
  {
   "cell_type": "code",
   "execution_count": 45,
   "metadata": {},
   "outputs": [
    {
     "name": "stdout",
     "output_type": "stream",
     "text": [
      "My name is\n",
      "Jimmy Five Times (0)\n",
      "Jimmy Five Times (1)\n",
      "Jimmy Five Times (2)\n",
      "Jimmy Five Times (3)\n",
      "Jimmy Five Times (4)\n"
     ]
    }
   ],
   "source": [
    "!powershell \\\n",
    "'My name is' ;\\\n",
    "$I = 0 ;\\\n",
    "While ($I -lt 5) { \\\n",
    "   'Jimmy Five Times (' + $I + ')'; \\\n",
    "   $I += 1}"
   ]
  },
  {
   "cell_type": "markdown",
   "metadata": {},
   "source": [
    "## Start, stop, and stepping in ranges"
   ]
  },
  {
   "cell_type": "code",
   "execution_count": 46,
   "metadata": {},
   "outputs": [
    {
     "name": "stdout",
     "output_type": "stream",
     "text": [
      "0\n",
      "2\n",
      "4\n",
      "6\n",
      "8\n"
     ]
    }
   ],
   "source": [
    "for i in range(0, 10, 2):\n",
    "    print(i)"
   ]
  },
  {
   "cell_type": "code",
   "execution_count": 53,
   "metadata": {},
   "outputs": [
    {
     "name": "stdout",
     "output_type": "stream",
     "text": [
      "0\n",
      "2\n",
      "4\n",
      "6\n",
      "8\n"
     ]
    }
   ],
   "source": [
    "!powershell \\\n",
    "For ($I=0; $I -lt 10; $I+=2) { \\\n",
    "    $I}"
   ]
  },
  {
   "cell_type": "code",
   "execution_count": 54,
   "metadata": {},
   "outputs": [
    {
     "name": "stdout",
     "output_type": "stream",
     "text": [
      "5\n",
      "4\n",
      "3\n",
      "2\n",
      "1\n",
      "0\n"
     ]
    }
   ],
   "source": [
    "for i in range(5, -1, -1):\n",
    "    print(i)"
   ]
  },
  {
   "cell_type": "code",
   "execution_count": 61,
   "metadata": {},
   "outputs": [
    {
     "name": "stdout",
     "output_type": "stream",
     "text": [
      "5\n",
      "4\n",
      "3\n",
      "2\n",
      "1\n",
      "0\n"
     ]
    }
   ],
   "source": [
    "!powershell For ($I=5; $I -gt -1; $I-=1) {$I}"
   ]
  },
  {
   "cell_type": "markdown",
   "metadata": {},
   "source": [
    "## Importing modules"
   ]
  },
  {
   "cell_type": "code",
   "execution_count": 66,
   "metadata": {},
   "outputs": [
    {
     "name": "stdout",
     "output_type": "stream",
     "text": [
      "5\n",
      "5\n",
      "10\n",
      "8\n",
      "6\n"
     ]
    }
   ],
   "source": [
    "import random\n",
    "for i in range(5):\n",
    "    print(random.randint(1, 10))"
   ]
  },
  {
   "cell_type": "code",
   "execution_count": 68,
   "metadata": {},
   "outputs": [
    {
     "name": "stdout",
     "output_type": "stream",
     "text": [
      "6\n",
      "10\n",
      "3\n",
      "9\n",
      "1\n"
     ]
    }
   ],
   "source": [
    "# Importing is not required to use the Get-Random in powershell\n",
    "# Note the array is represented as '1..10' and is inclusive. In Python, typically the higher number is excluded, however in some cases it's inclusive as in randint(1, 10)\n",
    "!powershell Get-Random -InputObject (1..10) -Count 5"
   ]
  },
  {
   "cell_type": "code",
   "execution_count": null,
   "metadata": {},
   "outputs": [],
   "source": []
  }
 ],
 "metadata": {
  "kernelspec": {
   "display_name": "Python 3",
   "language": "python",
   "name": "python3"
  },
  "language_info": {
   "codemirror_mode": {
    "name": "ipython",
    "version": 3
   },
   "file_extension": ".py",
   "mimetype": "text/x-python",
   "name": "python",
   "nbconvert_exporter": "python",
   "pygments_lexer": "ipython3",
   "version": "3.7.1"
  }
 },
 "nbformat": 4,
 "nbformat_minor": 2
}
