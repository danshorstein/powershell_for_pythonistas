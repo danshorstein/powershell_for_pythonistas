{
 "cells": [
  {
   "cell_type": "markdown",
   "metadata": {},
   "source": [
    "# Using HTML Tables\n",
    "I was looking at some music MIDI notation today, and realized I wanted to get a table from the internet into a PowerShell table format. So I took this opportunity to figure out how!"
   ]
  },
  {
   "cell_type": "markdown",
   "metadata": {},
   "source": [
    "I found most of this already written from Lee Holmes's blog. \n",
    "\n",
    "<pre># Source: https://www.leeholmes.com/blog/2015/01/05/extracting-tables-from-powershells-invoke-webrequest/\n",
    "\n",
    "# Filename GetHTMLTable.ps1\n",
    "\n",
    "param(\n",
    "    [Parameter(Mandatory = $true)]\n",
    "    [Microsoft.PowerShell.Commands.HtmlWebResponseObject] $WebRequest,\n",
    "    [Parameter(Mandatory = $true)]\n",
    "    [int] $TableNumber\n",
    ")\n",
    "\n",
    "## Extract the tables out of the web request\n",
    "$tables = @($WebRequest.ParsedHtml.getElementsByTagName(\"TABLE\"))\n",
    "$table = $tables[$TableNumber]\n",
    "$titles = @()\n",
    "$rows = @($table.Rows)\n",
    "\n",
    "## Go through all of the rows in the table\n",
    "foreach($row in $rows)\n",
    "{\n",
    "    $cells = @($row.Cells)\n",
    "\n",
    "    ## If we've found a table header, remember its titles\n",
    "    if($cells[0].tagName -eq \"TH\")\n",
    "    {\n",
    "        $titles = @($cells | % { (\"\" + $_.InnerText).Trim() })\n",
    "        continue\n",
    "    }\n",
    "\n",
    "    ## If we haven't found any table headers, use the first row and hope that work\n",
    "    if(-not $titles)\n",
    "    {\n",
    "        $titles = @($cells | % { (\"\" + $_.InnerText).Trim() })\n",
    "    }\n",
    "\n",
    "    ## Now go through the cells in the the row. For each, try to find the\n",
    "    ## title that represents that column and create a hashtable mapping those\n",
    "    ## titles to content\n",
    "\n",
    "    $resultObject = [Ordered] @{}\n",
    "    for($counter = 0; $counter -lt $cells.Count; $counter++)\n",
    "    {\n",
    "        $title = $titles[$counter]\n",
    "        if(-not $title) { continue }\n",
    "        $resultObject[$title] = (\"\" + $cells[$counter].InnerText).Trim()\n",
    "    }\n",
    "\n",
    "    ## And finally cast that hashtable to a PSCustomObject\n",
    "    [PSCustomObject] $resultObject\n",
    "}</pre>"
   ]
  },
  {
   "cell_type": "code",
   "execution_count": 8,
   "metadata": {},
   "outputs": [
    {
     "name": "stdout",
     "output_type": "stream",
     "text": [
      "\n",
      "President                        Term Began              Term Ended                           \n",
      "---------                        ----------              ----------                           \n",
      "1. George Washington             April 30, 1789          March 4, 1797                        \n",
      "2. John Adams                    March 4, 1797           March 4, 1801                        \n",
      "3. Thomas Jefferson              March 4, 1801           March 4, 1809                        \n",
      "4. James Madison                 March 4, 1809           March 4, 1817                        \n",
      "5. James Monroe                  March 4, 1817           March 4, 1825                        \n",
      "6. John Quincy Adams             March 4, 1825           March 4, 1829                        \n",
      "7. Andrew Jackson                March 4, 1829           March 4, 1837                        \n",
      "8. Martin Van Buren              March 4, 1837           March 4, 1841                        \n",
      "9. William Henry Harrison        March 4, 1841           April 4, 1841                        \n",
      "10. John Tyler                   April 4, 1841           March 4, 1845                        \n",
      "11. James K. Polk                March 4, 1845           March 4, 1849                        \n",
      "12. Zachary Taylor               March 4, 1849           July 9, 1850                         \n",
      "13. Millard Fillmore             July 9, 1850            March 4, 1853                        \n",
      "14. Franklin Pierce              March 4, 1853           March 4, 1857                        \n",
      "15. James Buchanan               March 4, 1857           March 4, 1861                        \n",
      "16. Abraham Lincoln              March 4, 1861           April 15, 1865                       \n",
      "17. Andrew Johnson               April 15, 1865          March 4, 1869                        \n",
      "18. Ulysses S. Grant             March 4, 1869           March 4, 1877                        \n",
      "19. Rutherford B. Hayes          March 4, 1877           March 4, 1881                        \n",
      "20. James Garfield               March 4, 1881           September 19, 1881                   \n",
      "21. Chester Arthur               September 19, 1881      March 4, 1885                        \n",
      "22. Grover Cleveland             March 4, 1885           March 4, 1889                        \n",
      "23. Benjamin Harrison            March 4, 1889           March 4, 1893                        \n",
      "24. Grover Cleveland             March 4, 1893           March 4, 1897                        \n",
      "25. William McKinley             March 4, 1897           September 14, 1901                   \n",
      "26. Theodore Roosevelt           September 14, 1901      March 4, 1909                        \n",
      "27. William Howard Taft          March 4, 1909           March 4, 1913                        \n",
      "28. Woodrow Wilson               March 4, 1913           March 4, 1921                        \n",
      "29. Warren G. Harding            March 4, 1921           August 2, 1923                       \n",
      "30. Calvin Coolidge              August 2, 1923          March 4, 1929                        \n",
      "31. Herbert Hoover               March 4, 1929           March 4, 1933                        \n",
      "32. Franklin D. Roosevelt        March 4, 1933           April 12, 1945                       \n",
      "33. Harry S. Truman              April 12, 1945          January 20, 1953                     \n",
      "34. Dwight Eisenhower            January 20, 1953        January 20, 1961                     \n",
      "35. John F. Kennedy              January 20, 1961        November 22, 1963                    \n",
      "36. Lyndon B. Johnson            November 22, 1963       January 20, 1969                     \n",
      "37. Richard Nixon                January 20, 1969        August 9, 1974                       \n",
      "38. Gerald Ford                  August 9, 1974          January 20, 1977                     \n",
      "39. Jimmy Carter                 January 20, 1977        January 20, 1981                     \n",
      "40. Ronald Reagan                January 20, 1981        January 20, 1989                     \n",
      "41. George Bush                  January 20, 1989        January 20, 1993                     \n",
      "42. Bill Clinton                 January 20, 1993        January 20, 2001                     \n",
      "43. George W. Bush               January 20, 2001        January 20, 2009                     \n",
      "44. Barack Obama                 January 20, 2009        January 20, 2017                     \n",
      "45. Donald Trump                 January 20, 2017        Currently in Office                  \n",
      "Printable PDF List of Presidents List of Vice Presidents List of Presidents by Political Party\n",
      "\n",
      "\n"
     ]
    }
   ],
   "source": [
    "# Use of the above:\n",
    "!powershell $r = Invoke-WebRequest 'https://www.presidentsusa.net/presvplist.html' ;\\\n",
    "$Table = ..\\scripts\\GetHTMLTable.ps1 $r -TableNumber 0 ;\\\n",
    "$Table ^| Format-Table"
   ]
  },
  {
   "cell_type": "code",
   "execution_count": null,
   "metadata": {},
   "outputs": [],
   "source": []
  }
 ],
 "metadata": {
  "kernelspec": {
   "display_name": "Python 3",
   "language": "python",
   "name": "python3"
  },
  "language_info": {
   "codemirror_mode": {
    "name": "ipython",
    "version": 3
   },
   "file_extension": ".py",
   "mimetype": "text/x-python",
   "name": "python",
   "nbconvert_exporter": "python",
   "pygments_lexer": "ipython3",
   "version": "3.7.1"
  }
 },
 "nbformat": 4,
 "nbformat_minor": 2
}
