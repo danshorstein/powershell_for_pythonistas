{
 "cells": [
  {
   "cell_type": "markdown",
   "metadata": {},
   "source": [
    "# PowerShell exploration and comparison to Python"
   ]
  },
  {
   "cell_type": "markdown",
   "metadata": {},
   "source": [
    "TODO: investigate:\n",
    "* logging https://www.google.com/amp/s/blog.ipswitch.com/how-to-build-a-logging-function-in-powershell%3Fhs_amp%3Dtrue\n",
    "* testing https://github.com/pester/Pester\n",
    "* ps object data store https://9to5it.com/using-psobject-store-data-powershell/\n",
    "* gui https://www.google.com/amp/s/theitbros.com/powershell-gui-for-scripts/amp/\n",
    "* executing scripts without ps1 http://vcloud-lab.com/entries/powershell/powershell-trick-execute-or-run-any-file-as-a-script-file\n",
    "* poshgui https://poshgui.com/Editor"
   ]
  },
  {
   "cell_type": "markdown",
   "metadata": {},
   "source": [
    "## Set execution rights so we can run scripts"
   ]
  },
  {
   "cell_type": "code",
   "execution_count": 1,
   "metadata": {},
   "outputs": [],
   "source": [
    "!powershell Set-ExecutionPolicy -ExecutionPolicy Bypass -Scope CurrentUser"
   ]
  },
  {
   "cell_type": "markdown",
   "metadata": {},
   "source": [
    "## Following along with Automate the Boring Stuff with Python"
   ]
  },
  {
   "cell_type": "markdown",
   "metadata": {},
   "source": [
    "This notebook shows the capabilities of Powershell's basics and compares to Python. To show powershell within the notebook, we are going to create functions and call them within the same block of code, since they do not keep after each block."
   ]
  },
  {
   "cell_type": "markdown",
   "metadata": {},
   "source": [
    "Let's see what version of powershell we have. Note the '!' allows us to run a command in command prompt. so by running !powershell we are executing powershell.exe and then whever comes after it."
   ]
  },
  {
   "cell_type": "code",
   "execution_count": 1,
   "metadata": {},
   "outputs": [
    {
     "name": "stdout",
     "output_type": "stream",
     "text": [
      "\n",
      "Name                           Value                                           \n",
      "----                           -----                                           \n",
      "PSVersion                      5.1.17134.407                                   \n",
      "PSEdition                      Desktop                                         \n",
      "PSCompatibleVersions           {1.0, 2.0, 3.0, 4.0...}                         \n",
      "BuildVersion                   10.0.17134.407                                  \n",
      "CLRVersion                     4.0.30319.42000                                 \n",
      "WSManStackVersion              3.0                                             \n",
      "PSRemotingProtocolVersion      2.3                                             \n",
      "SerializationVersion           1.1.0.1                                         \n",
      "\n",
      "\n"
     ]
    }
   ],
   "source": [
    "!powershell $psversiontable"
   ]
  },
  {
   "cell_type": "markdown",
   "metadata": {},
   "source": [
    "# Table of Contents\n",
    "* Chapter 1 - Basics\n",
    "* Chapter 2 - Flow Control"
   ]
  },
  {
   "cell_type": "code",
   "execution_count": null,
   "metadata": {},
   "outputs": [],
   "source": []
  }
 ],
 "metadata": {
  "kernelspec": {
   "display_name": "Python [default]",
   "language": "python",
   "name": "python3"
  },
  "language_info": {
   "codemirror_mode": {
    "name": "ipython",
    "version": 3
   },
   "file_extension": ".py",
   "mimetype": "text/x-python",
   "name": "python",
   "nbconvert_exporter": "python",
   "pygments_lexer": "ipython3",
   "version": "3.7.1"
  }
 },
 "nbformat": 4,
 "nbformat_minor": 2
}
