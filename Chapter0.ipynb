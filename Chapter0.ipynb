{
 "cells": [
  {
   "cell_type": "markdown",
   "metadata": {},
   "source": [
    "# PowerShell exploration and comparison to Python"
   ]
  },
  {
   "cell_type": "markdown",
   "metadata": {},
   "source": [
    "### Intro\n",
    "Howdy and welcome! This little experiment was created for the purpose of finding an alternative to Python in certain situations where all data and anlysis is done in a Windows environment, and/or when Python might not be an option due to security concerns or software installation concerns. In this tutorial I will be going through a Python tutorial, trying to see if I can execute or write similar functions and classes within PowerShell to mimic the Python behavior as much as possible, and explore to see what PowerShell can do on top of what Python can do in some cases. The main things I'm looking to get out of this process are learning basic syntax, data structures, building and using functions and classes, extending classes to have additional methods and properties, create and run script files, and ultimiately to perform automated data extraction, munging, analysis, and reporting. Let's see how this goes!"
   ]
  },
  {
   "cell_type": "markdown",
   "metadata": {},
   "source": [
    "### A note on powershell syntax used in this notebook\n",
    "I am executing Powershell directly from the Jupyter notebook. The way I'm doing this is by taking advantage of the fact that the \"!\" allows you to run command prompt commands directly from the cells. If you run \"powershell\" within the command prompt, you can then provide powershell code after that which is executed through powershell, in the command prompt. Surprisingly, this allows us to do quite a bit, but not everything, we need to do in these exercises. In order to make it work, we have to perform a few modifications to our code that is NOT going to work if run in Powershell directly. First, we have to include new-line semi-colons (;) to separate out lines of Powershell code. Next we have to escape all new-lines in the Jupyter cells with a backslash. So that means each line that is a new line will end with \";\\\" in this notebook, however if you use it in real Powershell you'll want to exclude both of those. \n",
    "\n",
    "For example, a two-line code to write \"Hello World!\" in powershell looks like this when done in the notebook:\n",
    "\n",
    "<pre>!powershell $Hello = \"Hello World!\" ;\\\n",
    "Write-Host $Hello</pre>\n",
    "\n",
    "but if you write that code in actual powershell, you'd use this syntax instead:\n",
    "\n",
    "<pre>$Hello = \"Hello World!\"\n",
    "Write-Host $Hello</pre>\n",
    "\n",
    "In some cases, the code I work on requires an input from the user. Unfortunately I couldn't get that to work in the Jupyter setting, so in those cases and a few other cases I will show how to write a script and save to a \".ps1\" file, and then execute that file from the notebook. \n",
    "\n",
    "One final thing to note is the PowerShell code can be extended through using .Net language, which provies for some really rich functionality that supplements the core PowerShell capabilities. You can tell what is .Net by indication of the brackets (e.g. [Math]) but I will also try to identify the specific code that uses .Net versus PowerShell. In some cases I'll compare the syntax between the Python, PowerShell, and .Net versions just to see how they compare and contrast."
   ]
  },
  {
   "cell_type": "markdown",
   "metadata": {},
   "source": [
    "## Set execution rights so we can run scripts\n",
    "So first thing I noticed pretty quickly is I was not able to run any scripts. I got a permission error, but found out that PowerShell usually starts out with this as default. In order to call script files (.ps1 files) you have to set the policy adequately. Here's the command to do so. "
   ]
  },
  {
   "cell_type": "code",
   "execution_count": 1,
   "metadata": {},
   "outputs": [],
   "source": [
    "!powershell Set-ExecutionPolicy -ExecutionPolicy Bypass -Scope CurrentUser"
   ]
  },
  {
   "cell_type": "markdown",
   "metadata": {},
   "source": [
    "## Following along with Automate the Boring Stuff with Python"
   ]
  },
  {
   "cell_type": "markdown",
   "metadata": {},
   "source": [
    "This notebook shows the capabilities of Powershell's basics and compares to Python by using a fantastic Python training / guide called Automate the Boring Stuff by Al Sweigart. His e-book was released under the Creative Commons license, which allows me to re-use a lot of his content here. Thanks Al!"
   ]
  },
  {
   "cell_type": "markdown",
   "metadata": {},
   "source": [
    "Let's see what version of powershell we have."
   ]
  },
  {
   "cell_type": "code",
   "execution_count": 1,
   "metadata": {},
   "outputs": [
    {
     "name": "stdout",
     "output_type": "stream",
     "text": [
      "\n",
      "Name                           Value                                           \n",
      "----                           -----                                           \n",
      "PSVersion                      5.1.17134.407                                   \n",
      "PSEdition                      Desktop                                         \n",
      "PSCompatibleVersions           {1.0, 2.0, 3.0, 4.0...}                         \n",
      "BuildVersion                   10.0.17134.407                                  \n",
      "CLRVersion                     4.0.30319.42000                                 \n",
      "WSManStackVersion              3.0                                             \n",
      "PSRemotingProtocolVersion      2.3                                             \n",
      "SerializationVersion           1.1.0.1                                         \n",
      "\n",
      "\n"
     ]
    }
   ],
   "source": [
    "!powershell $psversiontable"
   ]
  },
  {
   "cell_type": "markdown",
   "metadata": {},
   "source": [
    "# Table of Contents\n",
    "* Chapter 0 – Introduction\n",
    "* Chapter 1 – Basics\n",
    "* Chapter 2 – Flow Control\n",
    "* Chapter 3 – Functions\n",
    "* Chapter 4 – Lists\n",
    "* Chapter 5 – Dictionaries and Structuring Data\n",
    "* Chapter 6 – Manipulating Strings\n",
    "* Chapter 7 – Pattern Matching with Regular Expressions\n",
    "* [PENDING] Chapter 8 – Reading and Writing Files\n",
    "* [PENDING] Chapter 9 – Organizing Files\n",
    "* [PENDING] Chapter 10 – Debugging\n",
    "* [PENDING] Chapter 11 – Web Scraping\n",
    "* [PENDING] Chapter 12 – Working with Excel Spreadsheets\n",
    "* [PENDING] Chapter 13 – Working with PDF and Word Documents\n",
    "* [PENDING] Chapter 14 – Working with CSV Files and JSON Data\n",
    "* [PENDING] Chapter 15 – Keeping Time, Scheduling Tasks, and Launching Programs\n",
    "* [PENDING] Chapter 16 – Sending Email and Text Messages\n",
    "* [PENDING] Chapter 17 – Manipulating Images\n",
    "* [PENDING] Chapter 18 – Controlling the Keyboard and Mouse with GUI Automation"
   ]
  },
  {
   "cell_type": "markdown",
   "metadata": {},
   "source": [
    "TODO: investigate:\n",
    "* logging https://www.google.com/amp/s/blog.ipswitch.com/how-to-build-a-logging-function-in-powershell%3Fhs_amp%3Dtrue\n",
    "* testing https://github.com/pester/Pester\n",
    "* ps object data store https://9to5it.com/using-psobject-store-data-powershell/\n",
    "* gui https://www.google.com/amp/s/theitbros.com/powershell-gui-for-scripts/amp/\n",
    "* executing scripts without ps1 http://vcloud-lab.com/entries/powershell/powershell-trick-execute-or-run-any-file-as-a-script-file\n",
    "* poshgui https://poshgui.com/Editor"
   ]
  },
  {
   "cell_type": "code",
   "execution_count": null,
   "metadata": {},
   "outputs": [],
   "source": []
  }
 ],
 "metadata": {
  "kernelspec": {
   "display_name": "Python 3",
   "language": "python",
   "name": "python3"
  },
  "language_info": {
   "codemirror_mode": {
    "name": "ipython",
    "version": 3
   },
   "file_extension": ".py",
   "mimetype": "text/x-python",
   "name": "python",
   "nbconvert_exporter": "python",
   "pygments_lexer": "ipython3",
   "version": "3.7.1"
  }
 },
 "nbformat": 4,
 "nbformat_minor": 2
}
