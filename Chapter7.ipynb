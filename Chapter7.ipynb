{
 "cells": [
  {
   "cell_type": "markdown",
   "metadata": {},
   "source": [
    "# Chapter 7 - RegEx"
   ]
  },
  {
   "cell_type": "code",
   "execution_count": 63,
   "metadata": {},
   "outputs": [
    {
     "name": "stdout",
     "output_type": "stream",
     "text": [
      "\n",
      "\n",
      "   TypeName: System.Text.RegularExpressions.Regex\n",
      "\n",
      "Name                MemberType Definition                                                                              \n",
      "----                ---------- ----------                                                                              \n",
      "Equals              Method     bool Equals(System.Object obj)                                                          \n",
      "GetGroupNames       Method     string[] GetGroupNames()                                                                \n",
      "GetGroupNumbers     Method     int[] GetGroupNumbers()                                                                 \n",
      "GetHashCode         Method     int GetHashCode()                                                                       \n",
      "GetObjectData       Method     void ISerializable.GetObjectData(System.Runtime.Serialization.SerializationInfo info,...\n",
      "GetType             Method     type GetType()                                                                          \n",
      "GroupNameFromNumber Method     string GroupNameFromNumber(int i)                                                       \n",
      "GroupNumberFromName Method     int GroupNumberFromName(string name)                                                    \n",
      "IsMatch             Method     bool IsMatch(string input), bool IsMatch(string input, int startat)                     \n",
      "Match               Method     System.Text.RegularExpressions.Match Match(string input), System.Text.RegularExpressi...\n",
      "Matches             Method     System.Text.RegularExpressions.MatchCollection Matches(string input), System.Text.Reg...\n",
      "Replace             Method     string Replace(string input, string replacement), string Replace(string input, string...\n",
      "Split               Method     string[] Split(string input), string[] Split(string input, int count), string[] Split...\n",
      "ToString            Method     string ToString()                                                                       \n",
      "MatchTimeout        Property   timespan MatchTimeout {get;}                                                            \n",
      "Options             Property   System.Text.RegularExpressions.RegexOptions Options {get;}                              \n",
      "RightToLeft         Property   bool RightToLeft {get;}                                                                 \n",
      "\n",
      "\n"
     ]
    }
   ],
   "source": [
    "!powershell [regex]::new('') ^| Get-Member"
   ]
  },
  {
   "cell_type": "code",
   "execution_count": 14,
   "metadata": {},
   "outputs": [],
   "source": [
    "import re"
   ]
  },
  {
   "cell_type": "code",
   "execution_count": 21,
   "metadata": {},
   "outputs": [
    {
     "name": "stdout",
     "output_type": "stream",
     "text": [
      "Found phone number 212-123-4567\n"
     ]
    }
   ],
   "source": [
    "phone_re = re.compile(r'\\d{3}-\\d{3}-\\d{4}')\n",
    "result = phone_re.search('my number is 212-123-4567')\n",
    "print(f'Found phone number {result.group()}')"
   ]
  },
  {
   "cell_type": "code",
   "execution_count": 16,
   "metadata": {},
   "outputs": [],
   "source": [
    "# https://kevinmarquette.github.io/2017-07-31-Powershell-regex-regular-expression/#select-string"
   ]
  },
  {
   "cell_type": "code",
   "execution_count": 25,
   "metadata": {},
   "outputs": [
    {
     "name": "stdout",
     "output_type": "stream",
     "text": [
      "Found phone number 212-123-4567\n"
     ]
    }
   ],
   "source": [
    "!powershell \\\n",
    "$PhoneRe = [regex]::new('\\d{3}-\\d{3}-\\d{4}') ;\\\n",
    "$Result = $PhoneRe.Match('my number is 212-123-4567') ;\\\n",
    "Write-Host \"Found phone number $Result.Value\""
   ]
  },
  {
   "cell_type": "markdown",
   "metadata": {},
   "source": [
    "### Grouping with parentheses"
   ]
  },
  {
   "cell_type": "code",
   "execution_count": 54,
   "metadata": {},
   "outputs": [
    {
     "name": "stdout",
     "output_type": "stream",
     "text": [
      "<re.Match object; span=(13, 25), match='212-123-4567'>\n",
      "212\n",
      "123-4567\n",
      "212-123-4567\n",
      "212-123-4567\n",
      "Area: 212 Number: 123-4567\n"
     ]
    }
   ],
   "source": [
    "phone_re = re.compile(r'(\\d\\d\\d)-(\\d\\d\\d-\\d\\d\\d\\d)')\n",
    "match = phone_re.search('my number is 212-123-4567')\n",
    "print(match)\n",
    "print(match.group(1))\n",
    "print(match.group(2))\n",
    "print(match.group(0))\n",
    "print(match.group())\n",
    "area_code, number = match.groups()\n",
    "print(f'Area: {area_code} Number: {number}')"
   ]
  },
  {
   "cell_type": "code",
   "execution_count": 55,
   "metadata": {},
   "outputs": [
    {
     "name": "stdout",
     "output_type": "stream",
     "text": [
      "\n",
      "\n",
      "Groups   : {0, 1, 2}\n",
      "Success  : True\n",
      "Name     : 0\n",
      "Captures : {0}\n",
      "Index    : 13\n",
      "Length   : 12\n",
      "Value    : 212-123-4567\n",
      "\n",
      "212\n",
      "123-4567\n",
      "212-123-4567\n",
      "212-123-4567\n",
      "Area: 212 Number: 123-4567\n",
      "\n",
      "\n"
     ]
    }
   ],
   "source": [
    "!powershell \\\n",
    "$PhoneRe = [regex]::new('(\\d\\d\\d)-(\\d\\d\\d-\\d\\d\\d\\d)') ;\\\n",
    "$Result = $PhoneRe.Match('my number is 212-123-4567') ;\\\n",
    "$Result ;\\\n",
    "$Result.Groups[1].Value ;\\\n",
    "$Result.Groups[2].Value ;\\\n",
    "$Result.Groups[0].Value ;\\\n",
    "$Result.Value ;\\\n",
    "$Full, $Area, $Number = $Result.Groups.Value ;\\\n",
    "Write-Host \"Area: $Area Number: $Number\""
   ]
  },
  {
   "cell_type": "markdown",
   "metadata": {},
   "source": [
    "### Matching multiple options with pipe"
   ]
  },
  {
   "cell_type": "code",
   "execution_count": 82,
   "metadata": {},
   "outputs": [
    {
     "name": "stdout",
     "output_type": "stream",
     "text": [
      "<re.Match object; span=(0, 6), match='Batman'>\n",
      "<re.Match object; span=(13, 21), match='Tina Fey'>\n"
     ]
    }
   ],
   "source": [
    "hero_re = re.compile (r'Batman|Tina Fey')\n",
    "print(hero_re.search('Batman and Tina Fey'))\n",
    "print(hero_re.search('Batwoman and Tina Fey'))"
   ]
  },
  {
   "cell_type": "code",
   "execution_count": 91,
   "metadata": {},
   "outputs": [
    {
     "name": "stdout",
     "output_type": "stream",
     "text": [
      "\n",
      "\n",
      "Groups   : {0}\n",
      "Success  : True\n",
      "Name     : 0\n",
      "Captures : {0}\n",
      "Index    : 0\n",
      "Length   : 6\n",
      "Value    : Batman\n",
      "\n",
      "Groups   : {0}\n",
      "Success  : True\n",
      "Name     : 0\n",
      "Captures : {0}\n",
      "Index    : 13\n",
      "Length   : 8\n",
      "Value    : Tina Fey\n",
      "\n",
      "\n",
      "\n"
     ]
    }
   ],
   "source": [
    "!powershell \\\n",
    "$Hero_re = [regex]::new('Batman^|tina Fey') ;\\\n",
    "$Hero_re.match('Batman and Tina Fey') ;\\\n",
    "$Hero_re.match('Batwoman and Tina Fey')"
   ]
  },
  {
   "cell_type": "markdown",
   "metadata": {},
   "source": [
    "### Find all"
   ]
  },
  {
   "cell_type": "code",
   "execution_count": 62,
   "metadata": {},
   "outputs": [
    {
     "data": {
      "text/plain": [
       "['123-54-3592', '549-23-1236']"
      ]
     },
     "execution_count": 62,
     "metadata": {},
     "output_type": "execute_result"
    }
   ],
   "source": [
    "ssn = re.compile(r'\\d\\d\\d-\\d\\d-\\d\\d\\d\\d')\n",
    "ssn.findall('My social is 123-54-3592. Mom\\'s is 549-23-1236')"
   ]
  },
  {
   "cell_type": "code",
   "execution_count": 68,
   "metadata": {},
   "outputs": [
    {
     "name": "stdout",
     "output_type": "stream",
     "text": [
      "123-54-3592 549-23-1236\n"
     ]
    }
   ],
   "source": [
    "!powershell \\\n",
    "$Ssn = [regex]::new('\\d\\d\\d-\\d\\d-\\d\\d\\d\\d') ;\\\n",
    "Write-Host $Ssn.Matches('My social is 123-54-3592. Mom''s is 549-23-1236').Value"
   ]
  },
  {
   "cell_type": "markdown",
   "metadata": {},
   "source": [
    "### Using brackets for multiple character options"
   ]
  },
  {
   "cell_type": "code",
   "execution_count": 177,
   "metadata": {},
   "outputs": [
    {
     "name": "stdout",
     "output_type": "stream",
     "text": [
      "['e', 'e', 'a', 'e']\n",
      "                      \n"
     ]
    }
   ],
   "source": [
    "print(re.findall(r'[abcde]', 'hi there, how are you?'))\n",
    "!powershell Write-Host ([regex]::new('[.]*').Matches('hi there, how are you?').Value)"
   ]
  },
  {
   "cell_type": "markdown",
   "metadata": {},
   "source": [
    "re.IGNORECASE, re.DOTALL, and re.VERBOSE"
   ]
  },
  {
   "cell_type": "code",
   "execution_count": 108,
   "metadata": {},
   "outputs": [
    {
     "name": "stdout",
     "output_type": "stream",
     "text": [
      "<re.Match object; span=(0, 5), match='Hello'>\n",
      "\n",
      "\n",
      "Groups   : {0}\n",
      "Success  : True\n",
      "Name     : 0\n",
      "Captures : {0}\n",
      "Index    : 0\n",
      "Length   : 5\n",
      "Value    : Hello\n",
      "\n",
      "\n",
      "\n"
     ]
    }
   ],
   "source": [
    "# ignore case\n",
    "print(re.match(r'hello', 'Hello world!', re.IGNORECASE))\n",
    "!powershell [regex]::new('(?i:hello)').Match('Hello world!')"
   ]
  },
  {
   "cell_type": "code",
   "execution_count": 109,
   "metadata": {},
   "outputs": [
    {
     "name": "stdout",
     "output_type": "stream",
     "text": [
      "<re.Match object; span=(0, 11), match='123-45-6788'>\n",
      "\n",
      "\n",
      "Groups   : {0}\n",
      "Success  : True\n",
      "Name     : 0\n",
      "Captures : {0}\n",
      "Index    : 0\n",
      "Length   : 11\n",
      "Value    : 123-45-6788\n",
      "\n",
      "\n",
      "\n"
     ]
    }
   ],
   "source": [
    "# Ignore whitespace\n",
    "print(re.match(r'\\d\\d\\d-\\d\\d     -\\d\\d\\d\\d', '123-45-6788', re.VERBOSE))\n",
    "!powershell [regex]::new('(?x:\\d\\d\\d-\\d\\d-     \\d\\d\\d\\d)').Match('123-45-6788')"
   ]
  },
  {
   "cell_type": "code",
   "execution_count": 134,
   "metadata": {},
   "outputs": [],
   "source": [
    "with open('regex_data.txt', 'w') as f:\n",
    "    f.write('''LINE 1\n",
    "LINE 2\n",
    "LINE 3''')"
   ]
  },
  {
   "cell_type": "code",
   "execution_count": 167,
   "metadata": {},
   "outputs": [
    {
     "name": "stdout",
     "output_type": "stream",
     "text": [
      "<re.Match object; span=(0, 6), match='LINE 1'>\n",
      "<re.Match object; span=(0, 20), match='LINE 1\\nLINE 2\\nLINE 3'>\n",
      "LINE 1\n",
      "                      \n"
     ]
    }
   ],
   "source": [
    "# Dotall includes new-lines; Powershell.. not sure how to get this one to work\n",
    "with open('regex_data.txt') as f:\n",
    "    data = f.read()\n",
    "    print(re.search('.*', data))\n",
    "    print(re.search('.*', data, re.DOTALL))\n",
    "!powershell Write-Host ([regex]::new('.*').Match((Get-Content regex_data.txt -Raw))) ;\\\n",
    "Write-Host ([regex]::new('[.]*').Match((Get-Content regex_data.txt -Raw)))"
   ]
  },
  {
   "cell_type": "code",
   "execution_count": 158,
   "metadata": {},
   "outputs": [
    {
     "name": "stdout",
     "output_type": "stream",
     "text": [
      "3\n",
      "22\n",
      "LINE 1\n",
      "LINE 2\n",
      "LINE 3\n"
     ]
    }
   ],
   "source": [
    "!powershell \\\n",
    "(Get-Content regex_data.txt).length ;\\\n",
    "(Get-Content regex_data.txt -Raw).length ;\\\n",
    "echo (Get-Content regex_data.txt -Raw)"
   ]
  },
  {
   "cell_type": "code",
   "execution_count": null,
   "metadata": {},
   "outputs": [],
   "source": []
  }
 ],
 "metadata": {
  "kernelspec": {
   "display_name": "Python 3",
   "language": "python",
   "name": "python3"
  },
  "language_info": {
   "codemirror_mode": {
    "name": "ipython",
    "version": 3
   },
   "file_extension": ".py",
   "mimetype": "text/x-python",
   "name": "python",
   "nbconvert_exporter": "python",
   "pygments_lexer": "ipython3",
   "version": "3.7.1"
  }
 },
 "nbformat": 4,
 "nbformat_minor": 2
}
