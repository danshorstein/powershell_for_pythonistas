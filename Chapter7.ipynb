{
 "cells": [
  {
   "cell_type": "markdown",
   "metadata": {},
   "source": [
    "# Chapter 7 - RegEx"
   ]
  },
  {
   "cell_type": "code",
   "execution_count": 13,
   "metadata": {},
   "outputs": [
    {
     "name": "stdout",
     "output_type": "stream",
     "text": [
      "\n",
      "\n",
      "   TypeName: System.Management.Automation.PSMethod\n",
      "\n",
      "Name                MemberType Definition                                                                  \n",
      "----                ---------- ----------                                                                  \n",
      "Copy                Method     System.Management.Automation.PSMemberInfo Copy()                            \n",
      "Equals              Method     bool Equals(System.Object obj)                                              \n",
      "GetHashCode         Method     int GetHashCode()                                                           \n",
      "GetType             Method     type GetType()                                                              \n",
      "Invoke              Method     System.Object Invoke(Params System.Object[] arguments)                      \n",
      "ToString            Method     string ToString()                                                           \n",
      "IsInstance          Property   bool IsInstance {get;}                                                      \n",
      "MemberType          Property   System.Management.Automation.PSMemberTypes MemberType {get;}                \n",
      "Name                Property   string Name {get;}                                                          \n",
      "OverloadDefinitions Property   System.Collections.ObjectModel.Collection[string] OverloadDefinitions {get;}\n",
      "TypeNameOfValue     Property   string TypeNameOfValue {get;}                                               \n",
      "Value               Property   System.Object Value {get;set;}                                              \n",
      "\n",
      "\n"
     ]
    }
   ],
   "source": [
    "!powershell [regex]::new ^| Get-Member"
   ]
  },
  {
   "cell_type": "code",
   "execution_count": 14,
   "metadata": {},
   "outputs": [],
   "source": [
    "import re"
   ]
  },
  {
   "cell_type": "code",
   "execution_count": 21,
   "metadata": {},
   "outputs": [
    {
     "name": "stdout",
     "output_type": "stream",
     "text": [
      "Found phone number 212-123-4567\n"
     ]
    }
   ],
   "source": [
    "phone_re = re.compile(r'\\d{3}-\\d{3}-\\d{4}')\n",
    "result = phone_re.search('my number is 212-123-4567')\n",
    "print(f'Found phone number {result.group()}')"
   ]
  },
  {
   "cell_type": "code",
   "execution_count": 16,
   "metadata": {},
   "outputs": [],
   "source": [
    "# https://kevinmarquette.github.io/2017-07-31-Powershell-regex-regular-expression/#select-string"
   ]
  },
  {
   "cell_type": "code",
   "execution_count": 25,
   "metadata": {},
   "outputs": [
    {
     "name": "stdout",
     "output_type": "stream",
     "text": [
      "Found phone number 212-123-4567\n"
     ]
    }
   ],
   "source": [
    "!powershell \\\n",
    "$PhoneRe = [regex]::new('\\d{3}-\\d{3}-\\d{4}') ;\\\n",
    "$Result = $PhoneRe.Match('my number is 212-123-4567') ;\\\n",
    "Write-Host \"Found phone number $Result.Value\""
   ]
  },
  {
   "cell_type": "markdown",
   "metadata": {},
   "source": [
    "### Grouping with parentheses"
   ]
  },
  {
   "cell_type": "code",
   "execution_count": 54,
   "metadata": {},
   "outputs": [
    {
     "name": "stdout",
     "output_type": "stream",
     "text": [
      "<re.Match object; span=(13, 25), match='212-123-4567'>\n",
      "212\n",
      "123-4567\n",
      "212-123-4567\n",
      "212-123-4567\n",
      "Area: 212 Number: 123-4567\n"
     ]
    }
   ],
   "source": [
    "phone_re = re.compile(r'(\\d\\d\\d)-(\\d\\d\\d-\\d\\d\\d\\d)')\n",
    "match = phone_re.search('my number is 212-123-4567')\n",
    "print(match)\n",
    "print(match.group(1))\n",
    "print(match.group(2))\n",
    "print(match.group(0))\n",
    "print(match.group())\n",
    "area_code, number = match.groups()\n",
    "print(f'Area: {area_code} Number: {number}')"
   ]
  },
  {
   "cell_type": "code",
   "execution_count": 55,
   "metadata": {},
   "outputs": [
    {
     "name": "stdout",
     "output_type": "stream",
     "text": [
      "\n",
      "\n",
      "Groups   : {0, 1, 2}\n",
      "Success  : True\n",
      "Name     : 0\n",
      "Captures : {0}\n",
      "Index    : 13\n",
      "Length   : 12\n",
      "Value    : 212-123-4567\n",
      "\n",
      "212\n",
      "123-4567\n",
      "212-123-4567\n",
      "212-123-4567\n",
      "Area: 212 Number: 123-4567\n",
      "\n",
      "\n"
     ]
    }
   ],
   "source": [
    "!powershell \\\n",
    "$PhoneRe = [regex]::new('(\\d\\d\\d)-(\\d\\d\\d-\\d\\d\\d\\d)') ;\\\n",
    "$Result = $PhoneRe.Match('my number is 212-123-4567') ;\\\n",
    "$Result ;\\\n",
    "$Result.Groups[1].Value ;\\\n",
    "$Result.Groups[2].Value ;\\\n",
    "$Result.Groups[0].Value ;\\\n",
    "$Result.Value ;\\\n",
    "$Full, $Area, $Number = $Result.Groups.Value ;\\\n",
    "Write-Host \"Area: $Area Number: $Number\""
   ]
  },
  {
   "cell_type": "markdown",
   "metadata": {},
   "source": [
    "### Find all"
   ]
  },
  {
   "cell_type": "code",
   "execution_count": 62,
   "metadata": {},
   "outputs": [
    {
     "data": {
      "text/plain": [
       "['123-54-3592', '549-23-1236']"
      ]
     },
     "execution_count": 62,
     "metadata": {},
     "output_type": "execute_result"
    }
   ],
   "source": [
    "ssn = re.compile(r'\\d\\d\\d-\\d\\d-\\d\\d\\d\\d')\n",
    "ssn.findall('My social is 123-54-3592. Mom\\'s is 549-23-1236')"
   ]
  },
  {
   "cell_type": "code",
   "execution_count": null,
   "metadata": {},
   "outputs": [],
   "source": []
  }
 ],
 "metadata": {
  "kernelspec": {
   "display_name": "Python 3",
   "language": "python",
   "name": "python3"
  },
  "language_info": {
   "codemirror_mode": {
    "name": "ipython",
    "version": 3
   },
   "file_extension": ".py",
   "mimetype": "text/x-python",
   "name": "python",
   "nbconvert_exporter": "python",
   "pygments_lexer": "ipython3",
   "version": "3.7.1"
  }
 },
 "nbformat": 4,
 "nbformat_minor": 2
}
