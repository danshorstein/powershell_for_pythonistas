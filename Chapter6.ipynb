{
 "cells": [
  {
   "cell_type": "markdown",
   "metadata": {},
   "source": [
    "## Strings"
   ]
  },
  {
   "cell_type": "code",
   "execution_count": 46,
   "metadata": {},
   "outputs": [
    {
     "name": "stdout",
     "output_type": "stream",
     "text": [
      "\n",
      "\n",
      "   TypeName: System.String\n",
      "\n",
      "Name             MemberType Definition                                         \n",
      "----             ---------- ----------                                         \n",
      "Clone            Method     System.Object Clone(), System.Object ICloneable....\n",
      "CompareTo        Method     int CompareTo(System.Object value), int CompareT...\n",
      "Contains         Method     bool Contains(string value)                        \n",
      "CopyTo           Method     void CopyTo(int sourceIndex, char[] destination,...\n",
      "EndsWith         Method     bool EndsWith(string value), bool EndsWith(strin...\n",
      "Equals           Method     bool Equals(System.Object obj), bool Equals(stri...\n",
      "GetEnumerator    Method     System.CharEnumerator GetEnumerator(), System.Co...\n",
      "GetHashCode      Method     int GetHashCode()                                  \n",
      "GetType          Method     type GetType()                                     \n",
      "GetTypeCode      Method     System.TypeCode GetTypeCode(), System.TypeCode I...\n",
      "IndexOf          Method     int IndexOf(char value), int IndexOf(char value,...\n",
      "IndexOfAny       Method     int IndexOfAny(char[] anyOf), int IndexOfAny(cha...\n",
      "Insert           Method     string Insert(int startIndex, string value)        \n",
      "IsNormalized     Method     bool IsNormalized(), bool IsNormalized(System.Te...\n",
      "LastIndexOf      Method     int LastIndexOf(char value), int LastIndexOf(cha...\n",
      "LastIndexOfAny   Method     int LastIndexOfAny(char[] anyOf), int LastIndexO...\n",
      "Normalize        Method     string Normalize(), string Normalize(System.Text...\n",
      "PadLeft          Method     string PadLeft(int totalWidth), string PadLeft(i...\n",
      "PadRight         Method     string PadRight(int totalWidth), string PadRight...\n",
      "Remove           Method     string Remove(int startIndex, int count), string...\n",
      "Replace          Method     string Replace(char oldChar, char newChar), stri...\n",
      "Split            Method     string[] Split(Params char[] separator), string[...\n",
      "StartsWith       Method     bool StartsWith(string value), bool StartsWith(s...\n",
      "Substring        Method     string Substring(int startIndex), string Substri...\n",
      "ToBoolean        Method     bool IConvertible.ToBoolean(System.IFormatProvid...\n",
      "ToByte           Method     byte IConvertible.ToByte(System.IFormatProvider ...\n",
      "ToChar           Method     char IConvertible.ToChar(System.IFormatProvider ...\n",
      "ToCharArray      Method     char[] ToCharArray(), char[] ToCharArray(int sta...\n",
      "ToDateTime       Method     datetime IConvertible.ToDateTime(System.IFormatP...\n",
      "ToDecimal        Method     decimal IConvertible.ToDecimal(System.IFormatPro...\n",
      "ToDouble         Method     double IConvertible.ToDouble(System.IFormatProvi...\n",
      "ToInt16          Method     int16 IConvertible.ToInt16(System.IFormatProvide...\n",
      "ToInt32          Method     int IConvertible.ToInt32(System.IFormatProvider ...\n",
      "ToInt64          Method     long IConvertible.ToInt64(System.IFormatProvider...\n",
      "ToLower          Method     string ToLower(), string ToLower(cultureinfo cul...\n",
      "ToLowerInvariant Method     string ToLowerInvariant()                          \n",
      "ToSByte          Method     sbyte IConvertible.ToSByte(System.IFormatProvide...\n",
      "ToSingle         Method     float IConvertible.ToSingle(System.IFormatProvid...\n",
      "ToString         Method     string ToString(), string ToString(System.IForma...\n",
      "ToType           Method     System.Object IConvertible.ToType(type conversio...\n",
      "ToUInt16         Method     uint16 IConvertible.ToUInt16(System.IFormatProvi...\n",
      "ToUInt32         Method     uint32 IConvertible.ToUInt32(System.IFormatProvi...\n",
      "ToUInt64         Method     uint64 IConvertible.ToUInt64(System.IFormatProvi...\n",
      "ToUpper          Method     string ToUpper(), string ToUpper(cultureinfo cul...\n",
      "ToUpperInvariant Method     string ToUpperInvariant()                          \n",
      "Trim             Method     string Trim(Params char[] trimChars), string Trim()\n",
      "TrimEnd          Method     string TrimEnd(Params char[] trimChars)            \n",
      "TrimStart        Method     string TrimStart(Params char[] trimChars)          \n",
      "\n",
      "\n"
     ]
    }
   ],
   "source": [
    "# Let's see what string methods are available for strings in Powershell\n",
    "!powershell '' ^| Get-Member -MemberType Method"
   ]
  },
  {
   "cell_type": "markdown",
   "metadata": {},
   "source": [
    "### Double vs single quotes"
   ]
  },
  {
   "cell_type": "code",
   "execution_count": 14,
   "metadata": {},
   "outputs": [
    {
     "name": "stdout",
     "output_type": "stream",
     "text": [
      "i'm 25 years old. not!\n",
      "i'm 25 years old. not!\n",
      "i'm {age} years old. not!\n"
     ]
    }
   ],
   "source": [
    "# double vs singke quotes: no difference in python; f strings are interpreted in both the same.\n",
    "# May want to use double quotes so don't have to escape single quote\n",
    "# Dropping the f or using r will not interpret inside the string\n",
    "age = 25\n",
    "print(f'i\\'m {age} years old. not!')\n",
    "print(f\"i'm {age} years old. not!\")\n",
    "print(\"i'm {age} years old. not!\")"
   ]
  },
  {
   "cell_type": "code",
   "execution_count": 16,
   "metadata": {},
   "outputs": [
    {
     "name": "stdout",
     "output_type": "stream",
     "text": [
      "i'm 25 years old. not!\n",
      "i'm $Age years old. not!\n"
     ]
    }
   ],
   "source": [
    "# powershell interprets code inside doibke quores but takes singke as raw\n",
    "# Note a single quote within double quotes needs to be escaped with backwards apostrophe `, and with double single quotes in single quote strings\n",
    "!powershell \\\n",
    "$Age = 25 ;\\\n",
    "Write-Host \"i`'m $Age years old. not!\" ;\\\n",
    "Write-Host 'i''m $Age years old. not!'"
   ]
  },
  {
   "cell_type": "markdown",
   "metadata": {},
   "source": [
    "### Multiline Strings"
   ]
  },
  {
   "cell_type": "code",
   "execution_count": 18,
   "metadata": {},
   "outputs": [
    {
     "name": "stdout",
     "output_type": "stream",
     "text": [
      "\n",
      "hi\n",
      "this\n",
      "is\n",
      "multi\n",
      "lines\n"
     ]
    }
   ],
   "source": [
    "str = \"\"\"\n",
    "hi\n",
    "this\n",
    "is\n",
    "multi\n",
    "lines\"\"\"\n",
    "print(str)"
   ]
  },
  {
   "cell_type": "code",
   "execution_count": 28,
   "metadata": {},
   "outputs": [
    {
     "name": "stdout",
     "output_type": "stream",
     "text": [
      "hi\n",
      "this\n",
      "is\n",
      "multi\n",
      "lines\n"
     ]
    }
   ],
   "source": [
    "# We have to save a script file and run it to demonstrate functionality in Powershell\n",
    "# because running in jupyter notebook treats it all as if it's on one line\n",
    "\n",
    "code = \"\"\"\n",
    "$Str = @'\n",
    "hi\n",
    "this\n",
    "is\n",
    "multi\n",
    "lines\n",
    "'@\n",
    "\n",
    "Write-Host $Str\n",
    "\"\"\"\n",
    "\n",
    "with open('multi_ln_str.ps1', 'w') as f:\n",
    "    f.write(code)\n",
    "    \n",
    "!powershell ./multi_ln_str.ps1"
   ]
  },
  {
   "cell_type": "markdown",
   "metadata": {},
   "source": [
    "### The in and not in Operators with Strings"
   ]
  },
  {
   "cell_type": "code",
   "execution_count": 30,
   "metadata": {},
   "outputs": [
    {
     "name": "stdout",
     "output_type": "stream",
     "text": [
      "True\n",
      "False\n",
      "True\n"
     ]
    }
   ],
   "source": [
    "print('Hello' in 'Hello world')\n",
    "print('HELLO' in 'Hello world')\n",
    "print('hello' in 'Hello world'.lower())"
   ]
  },
  {
   "cell_type": "code",
   "execution_count": 43,
   "metadata": {},
   "outputs": [
    {
     "name": "stdout",
     "output_type": "stream",
     "text": [
      "True\n",
      "False\n",
      "True\n"
     ]
    }
   ],
   "source": [
    "!powershell \\\n",
    "$Str = 'Hello world' ;\\\n",
    "$Str.Contains('Hello') ;\\\n",
    "$Str.Contains('HELLO') ;\\\n",
    "$Str.ToLower().Contains('hello')"
   ]
  },
  {
   "cell_type": "markdown",
   "metadata": {},
   "source": [
    "### The isupper() and islower() String Methods"
   ]
  },
  {
   "cell_type": "code",
   "execution_count": 49,
   "metadata": {},
   "outputs": [
    {
     "name": "stdout",
     "output_type": "stream",
     "text": [
      "True\n",
      "True\n",
      "False\n"
     ]
    }
   ],
   "source": [
    "print('HELLO'.isupper())\n",
    "print('hi there!'.islower())\n",
    "print('Hello!'.isupper())"
   ]
  },
  {
   "cell_type": "code",
   "execution_count": 67,
   "metadata": {},
   "outputs": [
    {
     "name": "stdout",
     "output_type": "stream",
     "text": [
      "True\n",
      "True\n",
      "False\n"
     ]
    }
   ],
   "source": [
    "# Powershell string class does not contain an \"isupper\" or \"islower\" method. While we could potentially create a new class,\n",
    "# This seems overkill for something that I don't use very often. Instead we'll create a simple function for each\n",
    "!powershell \\\n",
    "function IsLower {param($Str); $Str -ceq $Str.ToLower()} ;\\\n",
    "function IsUpper {param($Str); $Str -ceq $Str.ToUpper()} ;\\\n",
    "IsUpper 'HELLO';\\\n",
    "IsLower 'hi there!' ;\\\n",
    "IsUpper 'Hello!'"
   ]
  },
  {
   "cell_type": "markdown",
   "metadata": {},
   "source": []
  }
 ],
 "metadata": {
  "kernelspec": {
   "display_name": "Python [default]",
   "language": "python",
   "name": "python3"
  },
  "language_info": {
   "codemirror_mode": {
    "name": "ipython",
    "version": 3
   },
   "file_extension": ".py",
   "mimetype": "text/x-python",
   "name": "python",
   "nbconvert_exporter": "python",
   "pygments_lexer": "ipython3",
   "version": "3.7.1"
  }
 },
 "nbformat": 4,
 "nbformat_minor": 2
}
