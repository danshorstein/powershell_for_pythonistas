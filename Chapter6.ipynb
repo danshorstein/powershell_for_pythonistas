{
 "cells": [
  {
   "cell_type": "markdown",
   "metadata": {},
   "source": [
    "## Strings"
   ]
  },
  {
   "cell_type": "code",
   "execution_count": 1,
   "metadata": {},
   "outputs": [
    {
     "name": "stdout",
     "output_type": "stream",
     "text": [
      "\n",
      "\n",
      "   TypeName: System.String\n",
      "\n",
      "Name             MemberType Definition                                                                                 \n",
      "----             ---------- ----------                                                                                 \n",
      "Clone            Method     System.Object Clone(), System.Object ICloneable.Clone()                                    \n",
      "CompareTo        Method     int CompareTo(System.Object value), int CompareTo(string strB), int IComparable.CompareT...\n",
      "Contains         Method     bool Contains(string value)                                                                \n",
      "CopyTo           Method     void CopyTo(int sourceIndex, char[] destination, int destinationIndex, int count)          \n",
      "EndsWith         Method     bool EndsWith(string value), bool EndsWith(string value, System.StringComparison compari...\n",
      "Equals           Method     bool Equals(System.Object obj), bool Equals(string value), bool Equals(string value, Sys...\n",
      "GetEnumerator    Method     System.CharEnumerator GetEnumerator(), System.Collections.IEnumerator IEnumerable.GetEnu...\n",
      "GetHashCode      Method     int GetHashCode()                                                                          \n",
      "GetType          Method     type GetType()                                                                             \n",
      "GetTypeCode      Method     System.TypeCode GetTypeCode(), System.TypeCode IConvertible.GetTypeCode()                  \n",
      "IndexOf          Method     int IndexOf(char value), int IndexOf(char value, int startIndex), int IndexOf(char value...\n",
      "IndexOfAny       Method     int IndexOfAny(char[] anyOf), int IndexOfAny(char[] anyOf, int startIndex), int IndexOfA...\n",
      "Insert           Method     string Insert(int startIndex, string value)                                                \n",
      "IsNormalized     Method     bool IsNormalized(), bool IsNormalized(System.Text.NormalizationForm normalizationForm)    \n",
      "LastIndexOf      Method     int LastIndexOf(char value), int LastIndexOf(char value, int startIndex), int LastIndexO...\n",
      "LastIndexOfAny   Method     int LastIndexOfAny(char[] anyOf), int LastIndexOfAny(char[] anyOf, int startIndex), int ...\n",
      "Normalize        Method     string Normalize(), string Normalize(System.Text.NormalizationForm normalizationForm)      \n",
      "PadLeft          Method     string PadLeft(int totalWidth), string PadLeft(int totalWidth, char paddingChar)           \n",
      "PadRight         Method     string PadRight(int totalWidth), string PadRight(int totalWidth, char paddingChar)         \n",
      "Remove           Method     string Remove(int startIndex, int count), string Remove(int startIndex)                    \n",
      "Replace          Method     string Replace(char oldChar, char newChar), string Replace(string oldValue, string newVa...\n",
      "Split            Method     string[] Split(Params char[] separator), string[] Split(char[] separator, int count), st...\n",
      "StartsWith       Method     bool StartsWith(string value), bool StartsWith(string value, System.StringComparison com...\n",
      "Substring        Method     string Substring(int startIndex), string Substring(int startIndex, int length)             \n",
      "ToBoolean        Method     bool IConvertible.ToBoolean(System.IFormatProvider provider)                               \n",
      "ToByte           Method     byte IConvertible.ToByte(System.IFormatProvider provider)                                  \n",
      "ToChar           Method     char IConvertible.ToChar(System.IFormatProvider provider)                                  \n",
      "ToCharArray      Method     char[] ToCharArray(), char[] ToCharArray(int startIndex, int length)                       \n",
      "ToDateTime       Method     datetime IConvertible.ToDateTime(System.IFormatProvider provider)                          \n",
      "ToDecimal        Method     decimal IConvertible.ToDecimal(System.IFormatProvider provider)                            \n",
      "ToDouble         Method     double IConvertible.ToDouble(System.IFormatProvider provider)                              \n",
      "ToInt16          Method     int16 IConvertible.ToInt16(System.IFormatProvider provider)                                \n",
      "ToInt32          Method     int IConvertible.ToInt32(System.IFormatProvider provider)                                  \n",
      "ToInt64          Method     long IConvertible.ToInt64(System.IFormatProvider provider)                                 \n",
      "ToLower          Method     string ToLower(), string ToLower(cultureinfo culture)                                      \n",
      "ToLowerInvariant Method     string ToLowerInvariant()                                                                  \n",
      "ToSByte          Method     sbyte IConvertible.ToSByte(System.IFormatProvider provider)                                \n",
      "ToSingle         Method     float IConvertible.ToSingle(System.IFormatProvider provider)                               \n",
      "ToString         Method     string ToString(), string ToString(System.IFormatProvider provider), string IConvertible...\n",
      "ToType           Method     System.Object IConvertible.ToType(type conversionType, System.IFormatProvider provider)    \n",
      "ToUInt16         Method     uint16 IConvertible.ToUInt16(System.IFormatProvider provider)                              \n",
      "ToUInt32         Method     uint32 IConvertible.ToUInt32(System.IFormatProvider provider)                              \n",
      "ToUInt64         Method     uint64 IConvertible.ToUInt64(System.IFormatProvider provider)                              \n",
      "ToUpper          Method     string ToUpper(), string ToUpper(cultureinfo culture)                                      \n",
      "ToUpperInvariant Method     string ToUpperInvariant()                                                                  \n",
      "Trim             Method     string Trim(Params char[] trimChars), string Trim()                                        \n",
      "TrimEnd          Method     string TrimEnd(Params char[] trimChars)                                                    \n",
      "TrimStart        Method     string TrimStart(Params char[] trimChars)                                                  \n",
      "\n",
      "\n"
     ]
    }
   ],
   "source": [
    "# Let's see what string methods are available for strings in Powershell\n",
    "!powershell '' ^| Get-Member -MemberType Method"
   ]
  },
  {
   "cell_type": "markdown",
   "metadata": {},
   "source": [
    "### Double vs single quotes"
   ]
  },
  {
   "cell_type": "code",
   "execution_count": 2,
   "metadata": {},
   "outputs": [
    {
     "name": "stdout",
     "output_type": "stream",
     "text": [
      "i'm 25 years old. not!\n",
      "i'm 25 years old. not!\n",
      "i'm {age} years old. not!\n"
     ]
    }
   ],
   "source": [
    "# double vs singke quotes: no difference in python; f strings are interpreted in both the same.\n",
    "# May want to use double quotes so don't have to escape single quote\n",
    "# Dropping the f or using r will not interpret inside the string\n",
    "age = 25\n",
    "print(f'i\\'m {age} years old. not!')\n",
    "print(f\"i'm {age} years old. not!\")\n",
    "print(\"i'm {age} years old. not!\")"
   ]
  },
  {
   "cell_type": "code",
   "execution_count": 3,
   "metadata": {},
   "outputs": [
    {
     "name": "stdout",
     "output_type": "stream",
     "text": [
      "i'm 25 years old. not!\n",
      "i'm $Age years old. not!\n"
     ]
    }
   ],
   "source": [
    "# powershell interprets code inside doibke quores but takes singke as raw\n",
    "# Note a single quote within double quotes needs to be escaped with backwards apostrophe `, and with double single quotes in single quote strings\n",
    "!powershell \\\n",
    "$Age = 25 ;\\\n",
    "Write-Host \"i`'m $Age years old. not!\" ;\\\n",
    "Write-Host 'i''m $Age years old. not!'"
   ]
  },
  {
   "cell_type": "markdown",
   "metadata": {},
   "source": [
    "### Multiline Strings"
   ]
  },
  {
   "cell_type": "code",
   "execution_count": 4,
   "metadata": {},
   "outputs": [
    {
     "name": "stdout",
     "output_type": "stream",
     "text": [
      "\n",
      "hi\n",
      "this\n",
      "is\n",
      "multi\n",
      "lines\n"
     ]
    }
   ],
   "source": [
    "str = \"\"\"\n",
    "hi\n",
    "this\n",
    "is\n",
    "multi\n",
    "lines\"\"\"\n",
    "print(str)"
   ]
  },
  {
   "cell_type": "code",
   "execution_count": 5,
   "metadata": {},
   "outputs": [
    {
     "name": "stdout",
     "output_type": "stream",
     "text": [
      "hi\n",
      "this\n",
      "is\n",
      "multi\n",
      "lines\n"
     ]
    }
   ],
   "source": [
    "# We have to save a script file and run it to demonstrate functionality in Powershell\n",
    "# because running in jupyter notebook treats it all as if it's on one line\n",
    "\n",
    "code = \"\"\"\n",
    "$Str = @'\n",
    "hi\n",
    "this\n",
    "is\n",
    "multi\n",
    "lines\n",
    "'@\n",
    "\n",
    "Write-Host $Str\n",
    "\"\"\"\n",
    "\n",
    "with open('multi_ln_str.ps1', 'w') as f:\n",
    "    f.write(code)\n",
    "    \n",
    "!powershell ./multi_ln_str.ps1"
   ]
  },
  {
   "cell_type": "markdown",
   "metadata": {},
   "source": [
    "### The in and not in Operators with Strings"
   ]
  },
  {
   "cell_type": "code",
   "execution_count": 6,
   "metadata": {},
   "outputs": [
    {
     "name": "stdout",
     "output_type": "stream",
     "text": [
      "True\n",
      "False\n",
      "True\n"
     ]
    }
   ],
   "source": [
    "print('Hello' in 'Hello world')\n",
    "print('HELLO' in 'Hello world')\n",
    "print('hello' in 'Hello world'.lower())"
   ]
  },
  {
   "cell_type": "code",
   "execution_count": 7,
   "metadata": {},
   "outputs": [
    {
     "name": "stdout",
     "output_type": "stream",
     "text": [
      "True\n",
      "False\n",
      "True\n"
     ]
    }
   ],
   "source": [
    "!powershell \\\n",
    "$Str = 'Hello world' ;\\\n",
    "$Str.Contains('Hello') ;\\\n",
    "$Str.Contains('HELLO') ;\\\n",
    "$Str.ToLower().Contains('hello')"
   ]
  },
  {
   "cell_type": "markdown",
   "metadata": {},
   "source": [
    "### The isupper() and islower() String Methods"
   ]
  },
  {
   "cell_type": "code",
   "execution_count": 8,
   "metadata": {},
   "outputs": [
    {
     "name": "stdout",
     "output_type": "stream",
     "text": [
      "True\n",
      "True\n",
      "False\n"
     ]
    }
   ],
   "source": [
    "print('HELLO'.isupper())\n",
    "print('hi there!'.islower())\n",
    "print('Hello!'.isupper())"
   ]
  },
  {
   "cell_type": "code",
   "execution_count": 9,
   "metadata": {},
   "outputs": [
    {
     "name": "stdout",
     "output_type": "stream",
     "text": [
      "True\n",
      "True\n",
      "False\n"
     ]
    }
   ],
   "source": [
    "# Powershell string class does not contain an \"isupper\" or \"islower\" method. While we could potentially create a new class,\n",
    "# This seems overkill for something that I don't use very often. Instead we'll create a simple function for each\n",
    "!powershell \\\n",
    "function IsLower {param($Str); $Str -ceq $Str.ToLower()} ;\\\n",
    "function IsUpper {param($Str); $Str -ceq $Str.ToUpper()} ;\\\n",
    "IsUpper 'HELLO';\\\n",
    "IsLower 'hi there!' ;\\\n",
    "IsUpper 'Hello!'"
   ]
  },
  {
   "cell_type": "markdown",
   "metadata": {},
   "source": [
    "### Startswith and Endswith functionality"
   ]
  },
  {
   "cell_type": "code",
   "execution_count": 10,
   "metadata": {},
   "outputs": [
    {
     "name": "stdout",
     "output_type": "stream",
     "text": [
      "True\n",
      "False\n",
      "True\n"
     ]
    }
   ],
   "source": [
    "print('Hello world'.startswith('Hello'))\n",
    "print('Hello world'.startswith('hello'))\n",
    "print('Hello world'.endswith('o world'))"
   ]
  },
  {
   "cell_type": "code",
   "execution_count": 11,
   "metadata": {},
   "outputs": [
    {
     "name": "stdout",
     "output_type": "stream",
     "text": [
      "True\n",
      "False\n",
      "True\n"
     ]
    }
   ],
   "source": [
    "!powershell 'Hello world'.StartsWith('Hello') ;\\\n",
    "'Hello world'.StartsWith('hello') ;\\\n",
    "'Hello world'.EndsWith('o world')"
   ]
  },
  {
   "cell_type": "markdown",
   "metadata": {},
   "source": [
    "### join() and split()"
   ]
  },
  {
   "cell_type": "code",
   "execution_count": 12,
   "metadata": {},
   "outputs": [
    {
     "name": "stdout",
     "output_type": "stream",
     "text": [
      "one|two|three|four\n",
      "['I', 'like', 'to', 'eat', 'apples', 'and', 'bananas']\n",
      "['silly', 'email.com']\n"
     ]
    }
   ],
   "source": [
    "print('|'.join(['one', 'two', 'three', 'four']))\n",
    "print('I like to eat apples and bananas'.split())\n",
    "print('silly@email.com'.split('@'))"
   ]
  },
  {
   "cell_type": "code",
   "execution_count": 13,
   "metadata": {},
   "outputs": [
    {
     "name": "stdout",
     "output_type": "stream",
     "text": [
      "one|two|three|four\n",
      "I like to eat apples and bananas\n",
      "silly email.com\n"
     ]
    }
   ],
   "source": [
    "!powershell \\\n",
    "[system.String]::Join('^|', 'one', 'two', 'three', 'four') ;\\\n",
    "Write-Host 'I like to eat apples and bananas'.Split() ;\\\n",
    "Write-Host 'silly@email.com'.split('@')"
   ]
  },
  {
   "cell_type": "markdown",
   "metadata": {},
   "source": [
    "### Left and Right justify"
   ]
  },
  {
   "cell_type": "code",
   "execution_count": 14,
   "metadata": {},
   "outputs": [
    {
     "name": "stdout",
     "output_type": "stream",
     "text": [
      "     Hello\n",
      "               Hello\n",
      "Hello     \n",
      "***************Hello\n",
      "Hello---------------\n",
      "       Hello        \n"
     ]
    }
   ],
   "source": [
    "print('Hello'.rjust(10))\n",
    "print('Hello'.rjust(20))\n",
    "print('Hello'.ljust(10))\n",
    "print('Hello'.rjust(20, '*'))\n",
    "print('Hello'.ljust(20, '-'))\n",
    "print('Hello'.center(20))"
   ]
  },
  {
   "cell_type": "code",
   "execution_count": 15,
   "metadata": {},
   "outputs": [
    {
     "name": "stdout",
     "output_type": "stream",
     "text": [
      "     Hello\n",
      "               Hello\n",
      "Hello     \n",
      "***************Hello\n",
      "Hello---------------\n",
      "       Hello\n"
     ]
    }
   ],
   "source": [
    "with open('justify.ps1', 'w') as f:\n",
    "    f.write('''\n",
    "\"{0, 10}\" -f \"Hello\"\n",
    "\"{0, 20}\" -f \"Hello\"\n",
    "\"{0, -10}\" -f \"Hello\"\n",
    "'Hello'.PadLeft(20, '*')\n",
    "'Hello'.PadRight(20, '-')\n",
    "'Hello'.PadLeft((20+'Hello'.Length)/2, ' ')\n",
    "''')\n",
    "\n",
    "!powershell ./justify.ps1"
   ]
  },
  {
   "cell_type": "markdown",
   "metadata": {},
   "source": [
    "### Removing Whitespace with strip(), rstrip(), and lstrip()"
   ]
  },
  {
   "cell_type": "code",
   "execution_count": 16,
   "metadata": {},
   "outputs": [
    {
     "name": "stdout",
     "output_type": "stream",
     "text": [
      "Hello world  !\n",
      "   Hello world!\n",
      "Hello world!\n",
      "BaconSpamEggs\n"
     ]
    }
   ],
   "source": [
    "spam = '   Hello world  '\n",
    "print(spam.lstrip() + '!')\n",
    "print(spam.rstrip() + '!')\n",
    "print(spam.strip() + '!')\n",
    "spam = 'SpamSpamBaconSpamEggsSpamSpam'\n",
    "print(spam.strip('ampS'))"
   ]
  },
  {
   "cell_type": "code",
   "execution_count": 17,
   "metadata": {},
   "outputs": [
    {
     "name": "stdout",
     "output_type": "stream",
     "text": [
      "Hello world !\n",
      " Hello world!\n",
      "Hello world!\n",
      "BaconSpamEggs\n"
     ]
    }
   ],
   "source": [
    "!powershell \\\n",
    "$Spam = '   Hello world  ' ;\\\n",
    "$Spam.TrimStart() + '!' ;\\\n",
    "$Spam.TrimEnd() + '!' ;\\\n",
    "$Spam.Trim() + '!' ;\\\n",
    "$Spam = 'SpamSpamBaconSpamEggsSpamSpam' ;\\\n",
    "$Spam.Trim('ampS')"
   ]
  },
  {
   "cell_type": "markdown",
   "metadata": {},
   "source": [
    "### Accessing the clipboard"
   ]
  },
  {
   "cell_type": "code",
   "execution_count": 20,
   "metadata": {},
   "outputs": [
    {
     "data": {
      "text/plain": [
       "'Hello world from Python!'"
      ]
     },
     "execution_count": 20,
     "metadata": {},
     "output_type": "execute_result"
    }
   ],
   "source": [
    "try:\n",
    "    import pyperclip\n",
    "except:\n",
    "    !pip install pyperclip -q\n",
    "    import pyperclip\n",
    "pyperclip.copy('Hello world from Python!')\n",
    "pyperclip.paste()"
   ]
  },
  {
   "cell_type": "code",
   "execution_count": 21,
   "metadata": {},
   "outputs": [
    {
     "name": "stdout",
     "output_type": "stream",
     "text": [
      "Hello world from Python!\n",
      "hey there, world from PowerShell!\n"
     ]
    }
   ],
   "source": [
    "script = '''Get-Clipboard\n",
    "Try{\n",
    "    Set-Clipboard -Value \"hey there, world from PowerShell!\"\n",
    "    }\n",
    "Catch{\n",
    "    Start-Sleep -s 1\n",
    "    Set-Clipboard -Value \"hey there, world from PowerShell!\"\n",
    "}\n",
    "Try{\n",
    "    Get-Clipboard\n",
    "    }\n",
    "Catch{\n",
    "    Start-Sleep -s 1\n",
    "    Get-Clipboard\n",
    "}'''\n",
    "\n",
    "with open('scripts/clipboard.ps1', 'w') as f:\n",
    "    f.write(script)\n",
    "    \n",
    "!powershell ./scripts/clipboard.ps1"
   ]
  },
  {
   "cell_type": "code",
   "execution_count": null,
   "metadata": {},
   "outputs": [],
   "source": []
  }
 ],
 "metadata": {
  "kernelspec": {
   "display_name": "Python 3",
   "language": "python",
   "name": "python3"
  },
  "language_info": {
   "codemirror_mode": {
    "name": "ipython",
    "version": 3
   },
   "file_extension": ".py",
   "mimetype": "text/x-python",
   "name": "python",
   "nbconvert_exporter": "python",
   "pygments_lexer": "ipython3",
   "version": "3.7.1"
  }
 },
 "nbformat": 4,
 "nbformat_minor": 2
}
