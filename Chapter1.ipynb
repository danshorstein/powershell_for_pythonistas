{
 "cells": [
  {
   "cell_type": "markdown",
   "metadata": {},
   "source": [
    "# Chapter 1 - Basics"
   ]
  },
  {
   "cell_type": "markdown",
   "metadata": {},
   "source": [
    "## Basic Math"
   ]
  },
  {
   "cell_type": "code",
   "execution_count": 2,
   "metadata": {},
   "outputs": [
    {
     "name": "stdout",
     "output_type": "stream",
     "text": [
      "8\n",
      "6\n",
      "2\n",
      "2.75\n",
      "15\n",
      "3\n",
      "4\n"
     ]
    }
   ],
   "source": [
    "# Basic math with Python\n",
    "print(2 ** 3) # exponent\n",
    "print(22 % 8) # remainder\n",
    "print(22 // 8) # floored quotient\n",
    "print(22 / 8) # division\n",
    "print(3 * 5) # multiplication\n",
    "print(5 - 2) # subtraction\n",
    "print(2 + 2) #addition"
   ]
  },
  {
   "cell_type": "code",
   "execution_count": 3,
   "metadata": {},
   "outputs": [
    {
     "name": "stdout",
     "output_type": "stream",
     "text": [
      "8\n",
      "6\n",
      "2\n",
      "2.75\n",
      "15\n",
      "3\n",
      "4\n"
     ]
    }
   ],
   "source": [
    "# Basic math with PowerShell (see https://blogs.technet.microsoft.com/heyscriptingguy/2010/08/01/using-windows-powershell-to-work-with-numbers/)\n",
    "!powershell.exe \\\n",
    "[math]::Pow(2,3); \\\n",
    "22 % 8; \\\n",
    "[math]::Floor(22 / 8); \\\n",
    "22 / 8; \\\n",
    "3 * 5; \\\n",
    "5 - 2; \\\n",
    "2 + 2"
   ]
  },
  {
   "cell_type": "markdown",
   "metadata": {},
   "source": [
    "## String Concatenation and Replication"
   ]
  },
  {
   "cell_type": "markdown",
   "metadata": {},
   "source": [
    "concatenate strings, multiply strings"
   ]
  },
  {
   "cell_type": "code",
   "execution_count": 4,
   "metadata": {},
   "outputs": [
    {
     "name": "stdout",
     "output_type": "stream",
     "text": [
      "AliceBob\n",
      "AliceAliceAliceAliceAlice\n"
     ]
    }
   ],
   "source": [
    "print('Alice' + 'Bob')\n",
    "print('Alice' * 5)"
   ]
  },
  {
   "cell_type": "markdown",
   "metadata": {},
   "source": [
    "try to add a string and an int"
   ]
  },
  {
   "cell_type": "code",
   "execution_count": 5,
   "metadata": {},
   "outputs": [
    {
     "name": "stdout",
     "output_type": "stream",
     "text": [
      "AliceBob\n"
     ]
    },
    {
     "data": {
      "text/plain": [
       "'AliceAliceAliceAliceAlice'"
      ]
     },
     "execution_count": 5,
     "metadata": {},
     "output_type": "execute_result"
    }
   ],
   "source": [
    "!powershell.exe \\\n",
    "'Alice' + 'Bob'\n",
    "'Alice' * 5"
   ]
  },
  {
   "cell_type": "markdown",
   "metadata": {},
   "source": [
    "## Storing values to variables"
   ]
  },
  {
   "cell_type": "code",
   "execution_count": 6,
   "metadata": {},
   "outputs": [],
   "source": [
    "spam, eggs = 40, 2"
   ]
  },
  {
   "cell_type": "code",
   "execution_count": 7,
   "metadata": {},
   "outputs": [
    {
     "name": "stdout",
     "output_type": "stream",
     "text": [
      "40\n",
      "2\n",
      "42\n"
     ]
    }
   ],
   "source": [
    "print(spam)\n",
    "print(eggs)\n",
    "print(spam + eggs)"
   ]
  },
  {
   "cell_type": "code",
   "execution_count": 8,
   "metadata": {},
   "outputs": [
    {
     "name": "stdout",
     "output_type": "stream",
     "text": [
      "40\n",
      "2\n",
      "42\n"
     ]
    }
   ],
   "source": [
    "!powershell.exe $Spam, $Eggs = 40, 2; \\\n",
    "$Spam; \\\n",
    "$Eggs; \\\n",
    "$Spam + $Eggs"
   ]
  },
  {
   "cell_type": "code",
   "execution_count": 9,
   "metadata": {},
   "outputs": [
    {
     "name": "stdout",
     "output_type": "stream",
     "text": [
      "Hello\n",
      "Goodbye\n"
     ]
    }
   ],
   "source": [
    "spam = 'Hello'\n",
    "print(spam)\n",
    "spam = 'Goodbye'\n",
    "print(spam)"
   ]
  },
  {
   "cell_type": "code",
   "execution_count": 10,
   "metadata": {},
   "outputs": [
    {
     "name": "stdout",
     "output_type": "stream",
     "text": [
      "Hello\n",
      "Goodbye\n"
     ]
    }
   ],
   "source": [
    "!powershell.exe $Spam = 'Hello'; \\\n",
    "$Spam; \\\n",
    "$Spam = 'Goodbye'; \\\n",
    "$Spam"
   ]
  },
  {
   "cell_type": "markdown",
   "metadata": {},
   "source": [
    "## Write a script"
   ]
  },
  {
   "cell_type": "code",
   "execution_count": 13,
   "metadata": {},
   "outputs": [],
   "source": [
    "# Python - This program says hello and asks for my name. We'll save this program to a function and call it\n",
    "def first_python_function():\n",
    "    print('Hello world!')\n",
    "    print('What is your name?')    # ask for their name\n",
    "    myName = input()\n",
    "    print('It is good to meet you, ' + myName)\n",
    "    print('The length of your name is:')\n",
    "    print(len(myName))\n",
    "    print('What is your age?')    # ask for their age\n",
    "    myAge = input()\n",
    "    print('You will be ' + str(int(myAge) + 1) + ' in a year.')"
   ]
  },
  {
   "cell_type": "code",
   "execution_count": 15,
   "metadata": {},
   "outputs": [
    {
     "name": "stdout",
     "output_type": "stream",
     "text": [
      "Hello world!\n",
      "What is your name?\n"
     ]
    },
    {
     "name": "stdin",
     "output_type": "stream",
     "text": [
      " Daniel\n"
     ]
    },
    {
     "name": "stdout",
     "output_type": "stream",
     "text": [
      "It is good to meet you, Daniel\n",
      "The length of your name is:\n",
      "6\n",
      "What is your age?\n"
     ]
    },
    {
     "name": "stdin",
     "output_type": "stream",
     "text": [
      " 25\n"
     ]
    },
    {
     "name": "stdout",
     "output_type": "stream",
     "text": [
      "You will be 26 in a year.\n"
     ]
    }
   ],
   "source": [
    "first_python_function()"
   ]
  },
  {
   "cell_type": "markdown",
   "metadata": {},
   "source": [
    "### Powershell - this must be run in powershell itself to work\n",
    "\n",
    "Here's the code:\n",
    "<pre><code>\n",
    "Function FirstPowershellProgram{\n",
    "'Hello world!'\n",
    "$myName = Read-Host -Prompt 'What is your name?'\n",
    "'It is good to meet you, ' + $myName\n",
    "'The langth of your name is:'\n",
    "$myName.length\n",
    "[int]$myAge = Read-Host -Prompt 'What is your age?'\n",
    "'You will be ' + ($myAge + 1) + ' in a year.' \n",
    "}\n",
    "\n",
    "FirstPowershellProgram\n",
    "</code></pre>\n",
    "\n",
    "And here are the results:\n",
    "<pre>\n",
    "PS C:\\Users\\dshorstein> FirstPowershellProgram\n",
    "Hello world!\n",
    "What is your name?: Daniel\n",
    "It is good to meet you, Daniel\n",
    "The langth of your name is:\n",
    "6\n",
    "What is your age?: 25\n",
    "You will be 26 in a year.\n",
    "PS C:\\Users\\dshorstein>\n",
    "</pre>"
   ]
  },
  {
   "cell_type": "code",
   "execution_count": 16,
   "metadata": {},
   "outputs": [],
   "source": [
    "# Comparison Operators\n",
    "# Python       PowerShell       Meaning\n",
    "#   ==            -eq           Equal to\n",
    "#   !=            -ne           Not equal to\n",
    "#   <             -lt           Less than\n",
    "#   >             -gt           Greater than\n",
    "#   <=            -le           Less than or equal to\n",
    "#   >=             -ge           Greater than or equal to"
   ]
  },
  {
   "cell_type": "code",
   "execution_count": 17,
   "metadata": {},
   "outputs": [
    {
     "name": "stdout",
     "output_type": "stream",
     "text": [
      "True\n",
      "False\n",
      "True\n",
      "False\n"
     ]
    }
   ],
   "source": [
    "print(42 == 42)\n",
    "print(42 == 99)\n",
    "print(2 != 3)\n",
    "print(2 != 2)"
   ]
  },
  {
   "cell_type": "code",
   "execution_count": 18,
   "metadata": {},
   "outputs": [
    {
     "name": "stdout",
     "output_type": "stream",
     "text": [
      "True\n",
      "False\n",
      "True\n",
      "False\n"
     ]
    }
   ],
   "source": [
    "!powershell.exe 42 -eq 42 ;\\\n",
    "42 -eq 99 ;\\\n",
    "2 -ne 3 ;\\\n",
    "2 -ne 2"
   ]
  },
  {
   "cell_type": "code",
   "execution_count": 19,
   "metadata": {},
   "outputs": [
    {
     "name": "stdout",
     "output_type": "stream",
     "text": [
      "True\n",
      "False\n",
      "True\n",
      "True\n",
      "True\n",
      "True\n",
      "False\n"
     ]
    }
   ],
   "source": [
    "print('hello' == 'hello')\n",
    "print('hello' == 'Hello')\n",
    "print('dog' != 'cat')\n",
    "print(True == True)\n",
    "print(True != False)\n",
    "print(42 == 42.0)\n",
    "print(42 == '42')"
   ]
  },
  {
   "cell_type": "code",
   "execution_count": 20,
   "metadata": {},
   "outputs": [
    {
     "name": "stdout",
     "output_type": "stream",
     "text": [
      "True\n",
      "False\n",
      "True\n",
      "True\n",
      "True\n",
      "True\n",
      "False\n"
     ]
    }
   ],
   "source": [
    "# must use 'clike' to check case sensitive\n",
    "\n",
    "!powershell.exe 'hello' -eq 'hello' ;\\\n",
    "'hello' -clike 'Hello' ;\\\n",
    "'dog' -ne 'cat' ;\\\n",
    "[bool]1 -eq [bool]1 ;\\\n",
    "[bool]1 -ne [bool]0 ;\\\n",
    "42 -eq 42.0 ;\\\n",
    "42 -ne '42'"
   ]
  },
  {
   "cell_type": "code",
   "execution_count": 21,
   "metadata": {},
   "outputs": [
    {
     "name": "stdout",
     "output_type": "stream",
     "text": [
      "True\n",
      "False\n",
      "False\n",
      "True\n",
      "True\n"
     ]
    }
   ],
   "source": [
    "print(42 < 100)\n",
    "print(42 > 100)\n",
    "print(42 < 42)\n",
    "eggCount = 42\n",
    "print(eggCount <= 42)\n",
    "myAge = 29\n",
    "print(myAge >= 10)"
   ]
  },
  {
   "cell_type": "code",
   "execution_count": 22,
   "metadata": {},
   "outputs": [
    {
     "name": "stdout",
     "output_type": "stream",
     "text": [
      "True\n",
      "False\n",
      "False\n",
      "True\n",
      "True\n"
     ]
    }
   ],
   "source": [
    "!powershell.exe 42 -lt 100 ;\\\n",
    "42 -gt 100 ;\\\n",
    "42 -lt 42 ;\\\n",
    "$EggCount = 42 ;\\\n",
    "$EggCount -le 42 ;\\\n",
    "$MyAge = 29 ;\\\n",
    "$MyAge -ge 10"
   ]
  },
  {
   "cell_type": "markdown",
   "metadata": {},
   "source": [
    "## Boolean operations"
   ]
  },
  {
   "cell_type": "code",
   "execution_count": 23,
   "metadata": {},
   "outputs": [
    {
     "name": "stdout",
     "output_type": "stream",
     "text": [
      "True\n",
      "False\n",
      "False\n",
      "False\n"
     ]
    }
   ],
   "source": [
    "print(True and True)\n",
    "print(True and False)\n",
    "print(False and False)\n",
    "print(False and True)"
   ]
  },
  {
   "cell_type": "code",
   "execution_count": 24,
   "metadata": {},
   "outputs": [
    {
     "name": "stdout",
     "output_type": "stream",
     "text": [
      "True\n",
      "False\n",
      "False\n",
      "False\n"
     ]
    }
   ],
   "source": [
    "!powershell $true -and $true ;\\\n",
    "$true -and $false ;\\\n",
    "$false -and $false ; \\\n",
    "$false -and $true"
   ]
  },
  {
   "cell_type": "code",
   "execution_count": 25,
   "metadata": {},
   "outputs": [
    {
     "name": "stdout",
     "output_type": "stream",
     "text": [
      "True\n",
      "True\n",
      "False\n",
      "True\n"
     ]
    }
   ],
   "source": [
    "print(True or True)\n",
    "print(True or False)\n",
    "print(False or False)\n",
    "print(False or True)"
   ]
  },
  {
   "cell_type": "code",
   "execution_count": 26,
   "metadata": {},
   "outputs": [
    {
     "name": "stdout",
     "output_type": "stream",
     "text": [
      "True\n",
      "True\n",
      "False\n",
      "True\n"
     ]
    }
   ],
   "source": [
    "!powershell $true -or $true ;\\\n",
    "$true -or $false ;\\\n",
    "$false -or $false ; \\\n",
    "$false -or $true"
   ]
  },
  {
   "cell_type": "code",
   "execution_count": 27,
   "metadata": {},
   "outputs": [
    {
     "name": "stdout",
     "output_type": "stream",
     "text": [
      "False\n",
      "True\n"
     ]
    }
   ],
   "source": [
    "print(not True)\n",
    "print(not False)"
   ]
  },
  {
   "cell_type": "code",
   "execution_count": 28,
   "metadata": {},
   "outputs": [
    {
     "name": "stdout",
     "output_type": "stream",
     "text": [
      "False\n",
      "True\n"
     ]
    }
   ],
   "source": [
    "!powershell -not $true ;\\\n",
    "-not $false"
   ]
  },
  {
   "cell_type": "code",
   "execution_count": 29,
   "metadata": {},
   "outputs": [
    {
     "name": "stdout",
     "output_type": "stream",
     "text": [
      "True\n",
      "False\n"
     ]
    }
   ],
   "source": [
    "print((4 < 5) and (5 < 6))\n",
    "print((4 < 5) and (5 < 3))"
   ]
  },
  {
   "cell_type": "code",
   "execution_count": 30,
   "metadata": {},
   "outputs": [
    {
     "name": "stdout",
     "output_type": "stream",
     "text": [
      "True\n",
      "False\n"
     ]
    }
   ],
   "source": [
    "!powershell (4 -lt 5) -and (5 -lt 6) ;\\\n",
    "(4 -lt 5) -and (5 -lt 3)"
   ]
  }
 ],
 "metadata": {
  "kernelspec": {
   "display_name": "Python [default]",
   "language": "python",
   "name": "python3"
  },
  "language_info": {
   "codemirror_mode": {
    "name": "ipython",
    "version": 3
   },
   "file_extension": ".py",
   "mimetype": "text/x-python",
   "name": "python",
   "nbconvert_exporter": "python",
   "pygments_lexer": "ipython3",
   "version": "3.7.1"
  }
 },
 "nbformat": 4,
 "nbformat_minor": 2
}
