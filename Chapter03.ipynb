{
 "cells": [
  {
   "cell_type": "markdown",
   "metadata": {},
   "source": [
    "# Chapter 3 - Functions"
   ]
  },
  {
   "cell_type": "markdown",
   "metadata": {},
   "source": [
    "## The return statement"
   ]
  },
  {
   "cell_type": "code",
   "execution_count": 1,
   "metadata": {},
   "outputs": [
    {
     "name": "stdout",
     "output_type": "stream",
     "text": [
      "My reply is no\n"
     ]
    }
   ],
   "source": [
    "import random\n",
    "def getAnswer(answerNumber):\n",
    "    answers = ['It is certain',\n",
    "              'It is decidedly so',\n",
    "              'Yes',\n",
    "              'Reply hazy try again',\n",
    "              'Ask again later',\n",
    "              'Concentrate and ask again',\n",
    "              'My reply is no',\n",
    "              'Outlook not so good',\n",
    "              'Very doubtful']\n",
    "    return answers[answerNumber]\n",
    "\n",
    "r = random.randint(0, 8)\n",
    "fortune = getAnswer(r)\n",
    "print(fortune)"
   ]
  },
  {
   "cell_type": "code",
   "execution_count": 2,
   "metadata": {},
   "outputs": [
    {
     "name": "stdout",
     "output_type": "stream",
     "text": [
      "Ask again later\n"
     ]
    }
   ],
   "source": [
    "!powershell \\\n",
    "Function GetAnswer { \\\n",
    "    param ([int]$AnswerNumber) ;\\\n",
    "    $Answers = 'It is certain', \\\n",
    "              'It is decidedly so',\\\n",
    "              'Yes',\\\n",
    "              'Reply hazy try again',\\\n",
    "              'Ask again later',\\\n",
    "              'Concentrate and ask again',\\\n",
    "              'My reply is no',\\\n",
    "              'Outlook not so good',\\\n",
    "              'Very doubtful';\\\n",
    "    $Answers[$AnswerNumber]\\\n",
    "} ;\\\n",
    "$R = Get-Random (0..8) ;\\\n",
    "$Fortune = GetAnswer $R ;\\\n",
    "$Fortune"
   ]
  },
  {
   "cell_type": "markdown",
   "metadata": {},
   "source": [
    "## None value"
   ]
  },
  {
   "cell_type": "code",
   "execution_count": 3,
   "metadata": {},
   "outputs": [
    {
     "name": "stdout",
     "output_type": "stream",
     "text": [
      "True\n",
      "False\n"
     ]
    }
   ],
   "source": [
    "spam = None\n",
    "print(spam is None)\n",
    "spam = 'lalala'\n",
    "print(spam is None)"
   ]
  },
  {
   "cell_type": "code",
   "execution_count": 4,
   "metadata": {},
   "outputs": [
    {
     "name": "stdout",
     "output_type": "stream",
     "text": [
      "True\n",
      "False\n"
     ]
    }
   ],
   "source": [
    "!powershell $NewVariable -eq $Null ;\\\n",
    "$NewVariable = 'hello' ;\\\n",
    "$NewVariable -eq $Null"
   ]
  },
  {
   "cell_type": "markdown",
   "metadata": {},
   "source": [
    "## End of print statement"
   ]
  },
  {
   "cell_type": "code",
   "execution_count": 5,
   "metadata": {},
   "outputs": [
    {
     "name": "stdout",
     "output_type": "stream",
     "text": [
      "HelloWorld\n"
     ]
    }
   ],
   "source": [
    "print('Hello', end='')\n",
    "print('World')"
   ]
  },
  {
   "cell_type": "code",
   "execution_count": 6,
   "metadata": {},
   "outputs": [
    {
     "name": "stdout",
     "output_type": "stream",
     "text": [
      "HelloWorld\n"
     ]
    }
   ],
   "source": [
    "!powershell \\\n",
    "Write-Host -NoNewline \"Hello\" ;\\\n",
    "Write-Host \"World\""
   ]
  },
  {
   "cell_type": "markdown",
   "metadata": {},
   "source": [
    "## Print statement separator"
   ]
  },
  {
   "cell_type": "code",
   "execution_count": 7,
   "metadata": {},
   "outputs": [
    {
     "name": "stdout",
     "output_type": "stream",
     "text": [
      "cats dogs mice\n",
      "cats,dogs,mice\n"
     ]
    }
   ],
   "source": [
    "print('cats', 'dogs', 'mice')\n",
    "print('cats', 'dogs', 'mice', sep=',')"
   ]
  },
  {
   "cell_type": "code",
   "execution_count": 8,
   "metadata": {},
   "outputs": [
    {
     "name": "stdout",
     "output_type": "stream",
     "text": [
      "cats dogs mice\n",
      "cats,dogs,mice\n"
     ]
    }
   ],
   "source": [
    "!powershell \\\n",
    " Write-Host 'cats', 'dogs', 'mice'  ;\\\n",
    " Write-Host 'cats', 'dogs', 'mice' -Separator ','"
   ]
  },
  {
   "cell_type": "markdown",
   "metadata": {},
   "source": [
    "## Error Handling"
   ]
  },
  {
   "cell_type": "code",
   "execution_count": 9,
   "metadata": {},
   "outputs": [
    {
     "name": "stdout",
     "output_type": "stream",
     "text": [
      "21.0\n",
      "3.5\n",
      "Error: unsupported operand type(s) for /: 'int' and 'str'\n",
      "None\n",
      "Error dividing by 0: division by zero\n",
      "None\n",
      "42.0\n"
     ]
    }
   ],
   "source": [
    "def spam(divideBy):\n",
    "    try:\n",
    "        return 42 / divideBy\n",
    "    except ZeroDivisionError as e:\n",
    "        print(f'Error dividing by 0: {e}')\n",
    "    except Exception as e:\n",
    "        print(f'Error: {e}')\n",
    "\n",
    "print(spam(2))\n",
    "print(spam(12))\n",
    "print(spam('hi'))\n",
    "print(spam(0))\n",
    "print(spam(1))"
   ]
  },
  {
   "cell_type": "code",
   "execution_count": 10,
   "metadata": {},
   "outputs": [
    {
     "name": "stdout",
     "output_type": "stream",
     "text": [
      "21\n",
      "3.5\n",
      "Error: Cannot convert value \"hi\" to type \"System.Int32\". Error: \"Input string was not in a correct format.\"\n",
      "Error dividing by 0: Attempted to divide by zero.\n",
      "42\n"
     ]
    }
   ],
   "source": [
    "!powershell \\\n",
    "Function Spam                                  \\\n",
    "{                            \\\n",
    "    param ($divideBy)                            \\\n",
    "Try                            \\\n",
    "{                            \\\n",
    "    42 / $divideBy                            \\\n",
    "}                            \\\n",
    "Catch [System.DivideByZeroException]                            \\\n",
    "{                            \\\n",
    "    $ErrorMessage = $_.Exception.Message                       ; \\\n",
    "    Write-Host \"Error dividing by 0: $ErrorMessage\"                            \\\n",
    "}                            \\\n",
    "Catch                            \\\n",
    "{                            \\\n",
    "    $ErrorMessage = $_.Exception.Message                          ;  \\\n",
    "    Write-Host \"Error: $ErrorMessage\"                            \\\n",
    "}                            \\\n",
    "}                           ; \\\n",
    "Spam 2   ;\\\n",
    "Spam 12   ;\\\n",
    "Spam 'hi'   ;\\\n",
    "Spam 0   ;\\\n",
    "Spam 1 \n",
    "#alternately could do 2, 12, 'hi', 0, 1 | ForEach-Object -Process {Spam $_}"
   ]
  },
  {
   "cell_type": "code",
   "execution_count": 24,
   "metadata": {},
   "outputs": [
    {
     "name": "stdout",
     "output_type": "stream",
     "text": [
      "I am thinking of a number between 1 and 20.\n",
      "Take a guess.\n"
     ]
    },
    {
     "name": "stdin",
     "output_type": "stream",
     "text": [
      " 1\n"
     ]
    },
    {
     "name": "stdout",
     "output_type": "stream",
     "text": [
      "Your guess is too low.\n",
      "Take a guess.\n"
     ]
    },
    {
     "name": "stdin",
     "output_type": "stream",
     "text": [
      " 2\n"
     ]
    },
    {
     "name": "stdout",
     "output_type": "stream",
     "text": [
      "Your guess is too low.\n",
      "Take a guess.\n"
     ]
    },
    {
     "name": "stdin",
     "output_type": "stream",
     "text": [
      " 3\n"
     ]
    },
    {
     "name": "stdout",
     "output_type": "stream",
     "text": [
      "Your guess is too low.\n",
      "Take a guess.\n"
     ]
    },
    {
     "name": "stdin",
     "output_type": "stream",
     "text": [
      " 4\n"
     ]
    },
    {
     "name": "stdout",
     "output_type": "stream",
     "text": [
      "Your guess is too low.\n",
      "Take a guess.\n"
     ]
    },
    {
     "name": "stdin",
     "output_type": "stream",
     "text": [
      " 5\n"
     ]
    },
    {
     "name": "stdout",
     "output_type": "stream",
     "text": [
      "Your guess is too low.\n",
      "Take a guess.\n"
     ]
    },
    {
     "name": "stdin",
     "output_type": "stream",
     "text": [
      " 6\n"
     ]
    },
    {
     "name": "stdout",
     "output_type": "stream",
     "text": [
      "Your guess is too low.\n",
      "Nope. The number I was thinking of was 7\n"
     ]
    }
   ],
   "source": [
    "## This is a guess the number game.\n",
    "\n",
    "import random\n",
    "secretNumber = random.randint(1, 20)\n",
    "print('I am thinking of a number between 1 and 20.')\n",
    "\n",
    "# Ask the player to guess 6 times.\n",
    "for guessesTaken in range(1, 7):\n",
    "    print('Take a guess.')\n",
    "    guess = int(input())\n",
    "\n",
    "    if guess < secretNumber:\n",
    "        print('Your guess is too low.')\n",
    "    elif guess > secretNumber:\n",
    "        print('Your guess is too high.')\n",
    "    else:\n",
    "        break    # This condition is the correct guess!\n",
    "\n",
    "if guess == secretNumber:\n",
    "    print('Good job! You guessed my number in ' + str(guessesTaken) + ' guesses!')\n",
    "else:\n",
    "    print('Nope. The number I was thinking of was ' + str(secretNumber))"
   ]
  },
  {
   "cell_type": "code",
   "execution_count": 23,
   "metadata": {},
   "outputs": [],
   "source": [
    "ps_script = \"\"\"\n",
    "$SecretNumber = Get-Random (1..20)\n",
    "Write-Host \"I am thinking of a number between 1 and 20.\"\n",
    "\n",
    "For ($n=1; $n -le 6; $n+=1)\n",
    "{\n",
    "    [int]$Guess = Read-Host -Prompt \"Take a guess.\"\n",
    "    If ($Guess -lt $SecretNumber)\n",
    "    {\n",
    "        Write-Host \"Your guess is too low.\"\n",
    "    }\n",
    "    ElseIf ($Guess -gt $SecretNumber)\n",
    "    {\n",
    "        Write-Host \"Your guess is too high.\"\n",
    "    }\n",
    "    Else\n",
    "    {\n",
    "        break\n",
    "    }\n",
    "}\n",
    "\n",
    "If ($Guess -eq $SecretNumber)\n",
    "{\n",
    "    Write-Host \"Good job! You guessed my number in $n guesses!\"\n",
    "}\n",
    "Else\n",
    "{\n",
    "    Write-Host \"Nope. The number I was thinking of was $SecretNumber.\"\n",
    "}\"\"\""
   ]
  },
  {
   "cell_type": "code",
   "execution_count": 12,
   "metadata": {},
   "outputs": [],
   "source": [
    "with open('Scripts/ps_guess.ps1', 'w') as f:\n",
    "    f.write(ps_script)"
   ]
  },
  {
   "cell_type": "markdown",
   "metadata": {},
   "source": [
    "OUTPUT:\n",
    "<pre>I am thinking of a number between 1 and 20.\n",
    "Take a guess.: 1\n",
    "Your guess is too low.\n",
    "Take a guess.: 2\n",
    "Your guess is too low.\n",
    "Take a guess.: 3\n",
    "Your guess is too low.\n",
    "Take a guess.: 4\n",
    "Your guess is too low.\n",
    "Take a guess.: 5\n",
    "Your guess is too low.\n",
    "Take a guess.: 6\n",
    "Your guess is too low.\n",
    "Nope. The number I was thinking of was 16.</pre>"
   ]
  },
  {
   "cell_type": "code",
   "execution_count": null,
   "metadata": {},
   "outputs": [],
   "source": []
  }
 ],
 "metadata": {
  "kernelspec": {
   "display_name": "Python [default]",
   "language": "python",
   "name": "python3"
  },
  "language_info": {
   "codemirror_mode": {
    "name": "ipython",
    "version": 3
   },
   "file_extension": ".py",
   "mimetype": "text/x-python",
   "name": "python",
   "nbconvert_exporter": "python",
   "pygments_lexer": "ipython3",
   "version": "3.7.1"
  }
 },
 "nbformat": 4,
 "nbformat_minor": 2
}
